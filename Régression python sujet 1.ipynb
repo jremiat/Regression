{
 "cells": [
  {
   "cell_type": "markdown",
   "id": "7ec305c4",
   "metadata": {},
   "source": [
    "# Introduction aux régressions linéaires sur Python : Correction\n",
    "\n",
    "Ceci est un cours d'introduction aux régressions linéaires sur Pyhton. L'objectif est de pouvoir importer des données, effectuer des régressions linéaires, de comprendre et savoir interpréter les sorties de Python mais aussi de vérifier l'adéquation du modèle.\n",
    "\n",
    "## Support\n",
    "\n",
    "Pour ce tutoriel, Jupyter Notebook sera utilisé.\n",
    "\n",
    "## Gestion et création de cellules\n",
    "\n",
    "Sur un notebook, vous pouvez écrire du texte et des cellules de code en Python.\n",
    "Pour transformer une cellule de code en texte, cliquez sur la cellule et appuyez sur Echap + M. Pour faire l'inverse, sélectionnez la zone de texte et appuyez sur Echap + Y.\n",
    "Pour éxecuter le code d'une cellule, appuyez sur Ctrl + Enter.\n",
    "Pour éxecuter et créer une nouvelle cellule Maj + Enter .\n",
    "\n",
    "\n",
    "## Importer les packages"
   ]
  },
  {
   "cell_type": "code",
   "execution_count": 1,
   "id": "ab44b3fe",
   "metadata": {},
   "outputs": [],
   "source": [
    "#load libraries\n",
    "import numpy as np         # linear algebra\n",
    "import pandas as pd        # data processing, CSV file I/O (e.g. pd.read_csv)\n",
    "import matplotlib.pyplot as plt\n",
    "from scipy import stats\n",
    "import statsmodels.api as sm \n",
    "import statsmodels.formula.api as smf #permet de faire régression liéaire avec les mêmes formules que sur R\n"
   ]
  },
  {
   "cell_type": "markdown",
   "id": "af15f5ed",
   "metadata": {},
   "source": [
    "### 1) Importer des données\n",
    "\n",
    "Pour importer des données, vous pouvez les télécharger localement et les ouvrir en précisant le chemin d'accès ou directement les ouvrir à partir d'un dépot Github.\n",
    "Dans ce TP, nous allons nous intéresser à un sous-échantillon de la cohorte Paquid. \n",
    "Cette cohorte a été constituée dans le but d’étudier le vieillissement cérébral normal et pathologique chez des \n",
    "sujets de plus de 65 ans, vivant à domicile en Gironde et en Dordogne. Les sujets ont été tirés au \n",
    "sort sur les listes électorales entre 1988 et 1990.\n",
    "\n",
    "Les sujets inclus dans l’étude ont été interrogés à l’aide d’un questionnaire standardisé lors de la \n",
    "visite initiale (T0), et lors des suivis à 1 an, 3 ans, 5 ans et 8 ans après la visite initiale. \n",
    "A chaque visite, des informations concernant les caractéristiques sociodémographiques, les conditions de \n",
    "vie, l’état de santé et les performances intellectuelles des sujets ont été recueillies. Pour évaluer \n",
    "les performances cognitives, plusieurs tests psychométriques ont été utilisés, parmi lesquels : le \n",
    "Mini Mental State Examination (MMSE) mesurant la performance cognitive globale, le test de \n",
    "rétention visuelle de Benton, le test d’Isaac utilisé pour explorer l’évocation lexicale, le test de \n",
    "barrages de Zazzo et le test de raisonnement logique simple de Wechsler.\n",
    "Dans cet exercice, nous nous intéressons au test de **Wechsler** nécessite une bonne capacité \n",
    "d’attention et présente une composante vitesse. Il se présente sous la forme d’une table qui sert \n",
    "de modèle et décrit neuf paires constituées d’un chiffre et d’un symbole, et d’une seconde table qui \n",
    "ne comporte que des chiffres et des cases vides. En se servant du modèle qui figure en haut de la \n",
    "feuille, le sujet doit compléter le plus de cases possible dans la seconde table en écrivant le \n",
    "symbole correspondant sous chaque chiffre proposé. Le score total est le nombre de cases \n",
    "correctement remplies en 90 secondes ; le score maximum est 93.\n",
    "L’objectif principal de cette étude est d’étudier la relation entre le score du test de Wechsler à la \n",
    "visite initiale et différentes caractéristiques des sujets.\n",
    "\n",
    "Les données sont dans le fichier *cweschler.txt*. Il contient des informations sur 501 sujets :\n",
    "\n",
    "* ayant effectués les cinq tests précités à T0, T1, T3 et T5,\n",
    "* ayant été vus à T8 et non déments à T8,\n",
    "* n’étant ni sourds, ni aveugles ;\n",
    "* n’étant pas confinés au lit ;\n",
    "* n’ayant pas eu d’AVC, ni de traumatismes crâniens pendant les 5 premières années de suivi.\n",
    "\n",
    "Les variables disponibles sont les suivantes :\n",
    "\n",
    "numero : numéro d’identification\n",
    "\n",
    "*age* : âge à T0 (en années)\n",
    "\n",
    "*sexe* : sexe\n",
    "* 0=hommes\n",
    "* 1=femmes\n",
    "\n",
    "metier : profession\n",
    "* 0=femme au foyer\n",
    "* 1=ouvrier agricole\n",
    "* 2=exploitant agricole\n",
    "* 3=employé de service\n",
    "* 4=ouvrier\n",
    "* 5=artisan-commerçant\n",
    "* 6=autres employés\n",
    "* 7=profession intellectuelle\n",
    "\n",
    "*codew0* : score au test de Wechsler à T0\n",
    "\n",
    "*comvin* : consommation de vin déclarée à T0\n",
    "* 0=non buveur\n",
    "* 1=1/4 de litre /jour\n",
    "* 2=1/2 litre /jour ou plus\n",
    "\n",
    "*certif *: niveau d’études\n",
    "* 0=sans certificat d’études primaire\n",
    "* 1=avec certificat d’études primaire\n",
    "\n",
    "**Indice : utiliser read_csv de panda**"
   ]
  },
  {
   "cell_type": "code",
   "execution_count": null,
   "id": "b50480a1",
   "metadata": {},
   "outputs": [],
   "source": []
  },
  {
   "cell_type": "markdown",
   "id": "5148dc21",
   "metadata": {},
   "source": [
    "## Statistiques descriptives\n",
    "\n",
    "### 2) Décrire la distribution de l'âge et du score à l'aide de graphiques appropriés\n",
    "**Indice : Utiliser hist de matplotlib**"
   ]
  },
  {
   "cell_type": "code",
   "execution_count": null,
   "id": "3ca51900",
   "metadata": {},
   "outputs": [],
   "source": []
  },
  {
   "cell_type": "markdown",
   "id": "0dca6f82",
   "metadata": {},
   "source": [
    "### 3) Décrire numériquement toutes les variables\n",
    "**Indices :**\n",
    "* Utiliser dataset-quanti.describe() pour les variables quantitatives du dataset \n",
    "* Utiliser quali.value_counts() pour une variable qualitative du dataset (1 variable à la fois)"
   ]
  },
  {
   "cell_type": "code",
   "execution_count": null,
   "id": "f556d4e7",
   "metadata": {},
   "outputs": [],
   "source": []
  },
  {
   "cell_type": "markdown",
   "id": "41742ecc",
   "metadata": {},
   "source": [
    "## Régression linéaire simple\n",
    "\n",
    "### 3) Estimer l'association brute entre le score au test de Wechsler et l'âge (en quantitatif)\n",
    "#### a) Sur papier : \n",
    "###### i) Ecrire l'équations du modèle\n",
    "\n",
    "##### ii) Donner les conditions d'applications de ce modèle et ce qu'elles signifient concrètement ici\n",
    "\n",
    "##### iii) Donner l'interprétation des coefficients de l'équation\n",
    "#### b) A partir des données :\n",
    "##### i) Tracer les graphiques nécessaires pour étudier les conditions d'application de modèle\n",
    "**Indices :**\n",
    "* utiliser  hist de matplotlib \n",
    "* utiliser scatter de matplotlib\n"
   ]
  },
  {
   "cell_type": "code",
   "execution_count": null,
   "id": "ad049261",
   "metadata": {},
   "outputs": [],
   "source": []
  },
  {
   "cell_type": "markdown",
   "id": "492ba52f",
   "metadata": {},
   "source": [
    "##### ii) Estimer le coefficient de corrélation de Pearson entre les deux variables\n",
    "**Indice : utiliser pearsonr de scipy**"
   ]
  },
  {
   "cell_type": "code",
   "execution_count": null,
   "id": "af26cee8",
   "metadata": {},
   "outputs": [],
   "source": []
  },
  {
   "cell_type": "markdown",
   "id": "1e097485",
   "metadata": {},
   "source": [
    "##### iii) Estimer le modèle\n",
    "**Indices :**\n",
    "* pour faire le modèle : utiliser smf.ols(formula='Y ~  X ', data=data) \n",
    "* Pour l'estimer, utiliser fit\n",
    "* Pour obtenir les résultats, afficher (print) du résumé du modèle (summary)\n"
   ]
  },
  {
   "cell_type": "markdown",
   "id": "7a708eff",
   "metadata": {},
   "source": [
    "##### iv) Présenter dans un tableau les résultats\n",
    "##### v) Interprétation des résultats"
   ]
  },
  {
   "cell_type": "markdown",
   "id": "67a24900",
   "metadata": {},
   "source": [
    "### 4) Estimer l'association brute entre le score et le sexe "
   ]
  },
  {
   "cell_type": "markdown",
   "id": "37d3117d",
   "metadata": {},
   "source": [
    "#### a) Ecrire sur papier l'équation du modèle\n",
    "#### b) Estimer le modèle et interpréter les résultats"
   ]
  },
  {
   "cell_type": "code",
   "execution_count": null,
   "id": "0e2f37d5",
   "metadata": {},
   "outputs": [],
   "source": []
  },
  {
   "cell_type": "markdown",
   "id": "2e8df75e",
   "metadata": {},
   "source": [
    "### 5) Estimer l'association brute entre le score et le niveau d'étude"
   ]
  },
  {
   "cell_type": "markdown",
   "id": "a44aab10",
   "metadata": {},
   "source": [
    "#### a) Sur papier, écrire l'équation du modèle\n",
    "#### b) Estimer le modèle et interpréter les résultats"
   ]
  },
  {
   "cell_type": "code",
   "execution_count": null,
   "id": "59d25b68",
   "metadata": {},
   "outputs": [],
   "source": []
  },
  {
   "cell_type": "markdown",
   "id": "cfb22c63",
   "metadata": {},
   "source": [
    "## Régresssion linéaire multiple : association entre le score et la consommation de vin, ajustée sur l'âge et le niveau d'éducation\n",
    "### a) Sur papier, écrire l'équation du modèle\n",
    "\n",
    "### b) Estimer le modèle et interpréter les résultats\n"
   ]
  },
  {
   "cell_type": "code",
   "execution_count": null,
   "id": "0767431c",
   "metadata": {},
   "outputs": [],
   "source": []
  },
  {
   "cell_type": "markdown",
   "id": "7a8f686d",
   "metadata": {},
   "source": [
    "### c) Etudier l'adéquation du modèle à partir des résidus\n",
    "**Indices :**\n",
    "* La fonction resid permet de calculer les résidus à partir d'un modèle fitté\n",
    "* Utiliser la fonction qqplot de statsmodel.api\n",
    "* Utiliser scatter et hist de matplotlib"
   ]
  },
  {
   "cell_type": "markdown",
   "id": "32ca70ce",
   "metadata": {},
   "source": [
    "### d) Etude d'interaction\n",
    " Etudier si l’association entre la consommation de vin et le score à T0 diffère chez les hommes \n",
    "et chez les femmes de même âge et de même niveau d’éducation.\n",
    "#### i) Ecrire sur papier l'équation du modèle\n",
    "#### ii) Estimer le modèle avec l'interaction nécessaire, interpréter pour la consommation de vin"
   ]
  },
  {
   "cell_type": "code",
   "execution_count": null,
   "id": "ee4303bd",
   "metadata": {},
   "outputs": [],
   "source": []
  },
  {
   "cell_type": "markdown",
   "id": "fad125bc",
   "metadata": {},
   "source": [
    "#### iii)Présenter les résultats du modèle \n",
    "avec interaction dans un tableau sur Word, même si l’interaction est non significative, et commenter les résultats"
   ]
  }
 ],
 "metadata": {
  "kernelspec": {
   "display_name": "Python 3 (ipykernel)",
   "language": "python",
   "name": "python3"
  },
  "language_info": {
   "codemirror_mode": {
    "name": "ipython",
    "version": 3
   },
   "file_extension": ".py",
   "mimetype": "text/x-python",
   "name": "python",
   "nbconvert_exporter": "python",
   "pygments_lexer": "ipython3",
   "version": "3.11.5"
  }
 },
 "nbformat": 4,
 "nbformat_minor": 5
}
