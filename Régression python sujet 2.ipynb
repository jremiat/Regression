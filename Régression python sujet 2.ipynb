{
 "cells": [
  {
   "cell_type": "markdown",
   "id": "bd64e455",
   "metadata": {},
   "source": [
    "# Introduction aux régressions linéaires sur Python partie 2 \n",
    "\n",
    "Ceci est un cours d'introduction aux régressions linéaires sur Python. L'objectif est de pouvoir importer des données, effectuer des régressions linéaires, de comprendre et savoir interpréter les sorties de Python mais aussi de vérifier l'adéquation du modèle.\n",
    "\n",
    "## Support\n",
    "\n",
    "Pour ce tutoriel, Jupyter Notebook sera utilisé.\n",
    "\n",
    "## Gestion et création de cellules\n",
    "\n",
    "Sur un notebook, vous pouvez écrire du texte et des cellules de code en Python.\n",
    "Pour transformer une cellule de code en texte, cliquez sur la cellule et appuyez sur Echap + M. Pour faire l'inverse, sélectionnez la zone de texte et appuyez sur Echap + Y.\n",
    "Pour éxecuter le code d'une cellule, appuyez sur Ctrl + Enter.\n",
    "Pour éxecuter et créer une nouvelle cellule Maj + Enter .\n",
    "\n",
    "\n",
    "## Importer les packages"
   ]
  },
  {
   "cell_type": "code",
   "execution_count": 2,
   "id": "fa55599d",
   "metadata": {},
   "outputs": [],
   "source": [
    "#load libraries\n",
    "import numpy as np         # linear algebra\n",
    "import pandas as pd        # data processing, CSV file I/O (e.g. pd.read_csv)\n",
    "import matplotlib.pyplot as plt\n",
    "from scipy import stats #permet régression linéaire simple\n",
    "import statsmodels.api as sm \n",
    "import statsmodels.formula.api as smf #permet de faire régression liéaire avec les mêmes formules que sur R\n",
    "from statsmodels.regression.linear_model import OLS #permet régression linéaire multiple"
   ]
  },
  {
   "cell_type": "markdown",
   "id": "b9c13541",
   "metadata": {},
   "source": [
    "1) Importer des données\n",
    "Pour importer des données, vous pouvez les télécharger localement et les ouvrir en précisant le chemin d'accès ou directement les ouvrir à partir d'un dépot Github.\n",
    "\n",
    "Les données de l’exercice proviennent d’un sous-échantillon de la cohorte ANRS CO13 HEPAVIH. \n",
    "Cette cohorte a été initiée en 2005 dans le but d’étudier l’histoire naturelle de la co-infection par le VIH \n",
    "et le virus de l’hépatite C (VHC). Les inclusions dans la cohorte sont fermées depuis 2016, mais les \n",
    "participants inclus sont toujours suivis. Les critères d’inclusion dans la cohorte étaient un âge\n",
    "supérieur à 18 ans et un suivi dans un des centres hospitaliers participants à la cohorte. \n",
    "Dans cet exercice, nous nous intéressons en particulier au score FIB-4 qui est un score qui a été \n",
    "validé pour évaluer l’atteinte hépatique chez les participants co-infectés par le VIH et le VHC. Ce \n",
    "score est calculé en fonction de plusieurs facteurs biologiques (ASAT, ALAT et plaquettes) et de l’âge \n",
    "du participant. Ce score peut être catégorisé pour le diagnostic de la fibrose. Les participants ayant un \n",
    "score inférieur à 1,45 sont catégorisés comme n’ayant pas de fibrose ou une fibrose légère, entre 1,45 \n",
    "et 3,25 une fibrose modérée, et ceux avec un score supérieur à 3,25 comme ayant une fibrose \n",
    "avancée ou une cirrhose. Dans cet exercice, nous ne nous intéresserons qu’à une seule mesure de \n",
    "FIB4 chez les patients guéris du VHC au cours du suivi, ou non guéris mais suivis au-delà du 1er\n",
    "janvier 2014. Il s’agit de la première mesure disponible après i) la guérison du VHC pour les patients \n",
    "guéris du VHC au cours du suivi, ou ii) après le 1er janvier 2014 pour les participants non-guéris du \n",
    "VHC au cours du suivi.\n",
    "Les données sont fournies dans le fichier FIB4.csv. Les variables disponibles et leurs codages sont \n",
    "présentés dans le tableau ci-dessous.\n",
    "\n",
    " *ID* Numéro d’identifiant\n",
    " \n",
    " *Sexe* Sexe \n",
    "* 1 : Hommes\n",
    "* 2 : Femmes\n",
    "\n",
    "*Age* Age au moment de la mesure du FIB-4 Année\n",
    "\n",
    "*FIB4* Valeur de FIB-4 Réel allant potentiellement de 0 à 3\n",
    "\n",
    "*RVS* Guérison du VHC\n",
    "* 0 : Non guéris\n",
    "* 1 : Guéris\n",
    "\n",
    "*alc* Consommation d’alcool déclarée par le participant\n",
    "* 0 : Jamais\n",
    "* 1 : Ancienne\n",
    "* 2 : Actuelle\n",
    "\n",
    "*CD4* Valeur de CD4 Cellules/mm3\n",
    "\n",
    "**Indice : utiliser read_csv de panda**"
   ]
  },
  {
   "cell_type": "code",
   "execution_count": null,
   "id": "3f5de037",
   "metadata": {},
   "outputs": [],
   "source": []
  },
  {
   "cell_type": "markdown",
   "id": "5dc49f53",
   "metadata": {},
   "source": [
    "## Statistiques descriptives\n",
    "### 2)Représenter graphiquement la distribution de l’âge, du score FIB-4 et des valeurs de CD4 et commentez la figure.\n",
    "**Indice : Utiliser hist de matplotlib**"
   ]
  },
  {
   "cell_type": "code",
   "execution_count": null,
   "id": "b2abbaad",
   "metadata": {},
   "outputs": [],
   "source": []
  },
  {
   "cell_type": "code",
   "execution_count": null,
   "id": "bad3854d",
   "metadata": {},
   "outputs": [],
   "source": []
  },
  {
   "cell_type": "code",
   "execution_count": null,
   "id": "56adf594",
   "metadata": {},
   "outputs": [],
   "source": []
  },
  {
   "cell_type": "markdown",
   "id": "3cdf2561",
   "metadata": {},
   "source": [
    "### 3) Décrire numériquement toutes les variables\n",
    "#### a) Variable quantitative\n",
    "#### b) Variable catégorielle\n",
    "**Indices :**\n",
    "* Utiliser dataset-quanti.describe() pour les variables quantitatives du dataset \n",
    "* Utiliser quali.value_counts() pour une variable qualitative du dataset (1 variable à la fois)"
   ]
  },
  {
   "cell_type": "code",
   "execution_count": null,
   "id": "07d14e57",
   "metadata": {},
   "outputs": [],
   "source": []
  },
  {
   "cell_type": "code",
   "execution_count": null,
   "id": "b52fd334",
   "metadata": {},
   "outputs": [],
   "source": []
  },
  {
   "cell_type": "markdown",
   "id": "f00b3ea6",
   "metadata": {},
   "source": [
    "## Régression linéaire simple\n",
    "\n",
    "### 3) Estimer l'association brute entre  le score FIB-4 et l’âge\n",
    "#### a) Sur papier : \n",
    "###### i) Ecrire l'équations du modèle\n",
    "\n",
    "\n",
    "##### ii) Donner les conditions d'applications de ce modèle et ce qu'elles signifient concrètement ici\n",
    "\n",
    "##### iii) Donner l'interprétation des coefficients de l'équation\n",
    "#### b) A partir des données :\n",
    "##### i) Estimer le coefficient de corrélation de Pearson entre les deux variables\n",
    "**Indice : utiliser pearsonr de scipy**"
   ]
  },
  {
   "cell_type": "code",
   "execution_count": null,
   "id": "dac3c1e4",
   "metadata": {},
   "outputs": [],
   "source": []
  },
  {
   "cell_type": "markdown",
   "id": "230347de",
   "metadata": {},
   "source": [
    "##### iii) Estimer le modèle\n",
    "**Indices :**\n",
    "* pour faire le modèle : utiliser smf.ols(formula='Y ~  X ', data=data) \n",
    "* Pour l'estimer, utiliser fit\n",
    "* Pour obtenir les résultats, afficher (print) du résumé du modèle (summary)"
   ]
  },
  {
   "cell_type": "code",
   "execution_count": null,
   "id": "6f395f8a",
   "metadata": {},
   "outputs": [],
   "source": []
  },
  {
   "cell_type": "markdown",
   "id": "390ee4bc",
   "metadata": {},
   "source": [
    "### 4) Estimer l'association brute entre le score et la guérison du VHC \n",
    "#### a) Ecrire sur papier l'équation du modèle\n",
    "\n",
    "#### b) Estimer le modèle et interpréter les résultats"
   ]
  },
  {
   "cell_type": "code",
   "execution_count": null,
   "id": "f3831dca",
   "metadata": {},
   "outputs": [],
   "source": []
  },
  {
   "cell_type": "markdown",
   "id": "1f30c9c7",
   "metadata": {},
   "source": [
    "### 5) Estimer l'association brute entre le score et la consommation d'alcool\n",
    "#### a) Sur papier, écrire l'équation du modèle\n",
    "\n",
    "#### b) Estimer le modèle et interpréter les résultats"
   ]
  },
  {
   "cell_type": "code",
   "execution_count": null,
   "id": "405b25ab",
   "metadata": {},
   "outputs": [],
   "source": []
  },
  {
   "cell_type": "markdown",
   "id": "5708bced",
   "metadata": {},
   "source": [
    "## Régresssion linéaire multiple : association entre le score et la consommation d'alcool, ajustée sur l'âge, le sexe et la guérison au VHC\n",
    "### a) Sur papier, écrire l'équation du modèle\n",
    "\n",
    "### b) Estimer le modèle et interpréter les résultats"
   ]
  },
  {
   "cell_type": "code",
   "execution_count": null,
   "id": "39568235",
   "metadata": {},
   "outputs": [],
   "source": []
  },
  {
   "cell_type": "markdown",
   "id": "f69cb5a6",
   "metadata": {},
   "source": [
    "### c) Discutez la différence entre l’effet de la consommation d’alcool estimé par ce modèle et celui estimé à la question précédente.\n",
    "### d) Vérifier l’adéquation de ce modèle.\n",
    "**Indices :**\n",
    "* La fonction resid permet de calculer les résidus à partir d'un modèle fitté\n",
    "* Utiliser la fonction qqplot de statsmodel.api\n",
    "* Utiliser scatter et hist de matplotlib"
   ]
  },
  {
   "cell_type": "code",
   "execution_count": null,
   "id": "f46d06c4",
   "metadata": {},
   "outputs": [],
   "source": []
  },
  {
   "cell_type": "markdown",
   "id": "bdd482a9",
   "metadata": {},
   "source": [
    "### e) Présentez les résultats de ce modèle dans un tableau."
   ]
  },
  {
   "cell_type": "markdown",
   "id": "41a282f7",
   "metadata": {},
   "source": [
    "### d) Etude d'interaction\n",
    "L’association entre le score FIB-4 et la valeur de CD4 diffère t’elle statistiquement significativement en fonction de la guérison du VHC ?\n",
    "#### i) Ecrire sur papier l'équation du modèle\n",
    "\n",
    "#### ii) Estimer le modèle avec l'interaction nécessaire"
   ]
  },
  {
   "cell_type": "code",
   "execution_count": null,
   "id": "acd32915",
   "metadata": {},
   "outputs": [],
   "source": []
  }
 ],
 "metadata": {
  "kernelspec": {
   "display_name": "Python 3 (ipykernel)",
   "language": "python",
   "name": "python3"
  },
  "language_info": {
   "codemirror_mode": {
    "name": "ipython",
    "version": 3
   },
   "file_extension": ".py",
   "mimetype": "text/x-python",
   "name": "python",
   "nbconvert_exporter": "python",
   "pygments_lexer": "ipython3",
   "version": "3.11.5"
  }
 },
 "nbformat": 4,
 "nbformat_minor": 5
}
