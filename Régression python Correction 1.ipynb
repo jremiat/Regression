{
 "cells": [
  {
   "cell_type": "markdown",
   "id": "5e30699c",
   "metadata": {},
   "source": [
    "# Introduction aux régressions linéaires sur Python : Correction\n",
    "\n",
    "Ceci est un cours d'introduction aux régressions linéaires sur Pyhton. L'objectif est de pouvoir importer des données, effectuer des régressions linéaires, de comprendre et savoir interpréter les sorties de Python mais aussi de vérifier l'adéquation du modèle.\n",
    "\n",
    "## Support\n",
    "\n",
    "Pour ce tutoriel, Jupyter Notebook sera utilisé.\n",
    "\n",
    "## Gestion et création de cellules\n",
    "\n",
    "Sur un notebook, vous pouvez écrire du texte et des cellules de code en Python.\n",
    "Pour transformer une cellule de code en texte, cliquez sur la cellule et appuyez sur Echap + M. Pour faire l'inverse, sélectionnez la zone de texte et appuyez sur Echap + Y.\n",
    "Pour éxecuter le code d'une cellule, appuyez sur Ctrl + Enter.\n",
    "Pour éxecuter et créer une nouvelle cellule Maj + Enter .\n",
    "\n",
    "\n",
    "## Importer les packages"
   ]
  },
  {
   "cell_type": "code",
   "execution_count": 46,
   "id": "62c5e520",
   "metadata": {},
   "outputs": [],
   "source": [
    "#load libraries\n",
    "import numpy as np         # linear algebra\n",
    "import pandas as pd        # data processing, CSV file I/O (e.g. pd.read_csv)\n",
    "import matplotlib.pyplot as plt\n",
    "from scipy import stats #permet régression linéaire simple\n",
    "import statsmodels.api as sm \n",
    "import statsmodels.formula.api as smf #permet de faire régression liéaire avec les mêmes formules que sur R\n",
    "from statsmodels.regression.linear_model import OLS #permet régression linéaire multiple"
   ]
  },
  {
   "cell_type": "markdown",
   "id": "6ecf0466",
   "metadata": {},
   "source": [
    "### 1) Importer des données\n",
    "\n",
    "Pour importer des données, vous pouvez les télécharger localement et les ouvrir en précisant le chemin d'accès ou directement les ouvrir à partir d'un dépot Github.\n",
    "Dans ce TP, nous allons nous intéresser à un sous-échantillon de la cohorte Paquid. \n",
    "Cette cohorte a été constituée dans le but d’étudier le vieillissement cérébral normal et pathologique chez des \n",
    "sujets de plus de 65 ans, vivant à domicile en Gironde et en Dordogne. Les sujets ont été tirés au \n",
    "sort sur les listes électorales entre 1988 et 1990.\n",
    "\n",
    "Les sujets inclus dans l’étude ont été interrogés à l’aide d’un questionnaire standardisé lors de la \n",
    "visite initiale (T0), et lors des suivis à 1 an, 3 ans, 5 ans et 8 ans après la visite initiale. \n",
    "A chaque visite, des informations concernant les caractéristiques sociodémographiques, les conditions de \n",
    "vie, l’état de santé et les performances intellectuelles des sujets ont été recueillies. Pour évaluer \n",
    "les performances cognitives, plusieurs tests psychométriques ont été utilisés, parmi lesquels : le \n",
    "Mini Mental State Examination (MMSE) mesurant la performance cognitive globale, le test de \n",
    "rétention visuelle de Benton, le test d’Isaac utilisé pour explorer l’évocation lexicale, le test de \n",
    "barrages de Zazzo et le test de raisonnement logique simple de Wechsler.\n",
    "Dans cet exercice, nous nous intéressons au test de **Wechsler** nécessite une bonne capacité \n",
    "d’attention et présente une composante vitesse. Il se présente sous la forme d’une table qui sert \n",
    "de modèle et décrit neuf paires constituées d’un chiffre et d’un symbole, et d’une seconde table qui \n",
    "ne comporte que des chiffres et des cases vides. En se servant du modèle qui figure en haut de la \n",
    "feuille, le sujet doit compléter le plus de cases possible dans la seconde table en écrivant le \n",
    "symbole correspondant sous chaque chiffre proposé. Le score total est le nombre de cases \n",
    "correctement remplies en 90 secondes ; le score maximum est 93.\n",
    "L’objectif principal de cette étude est d’étudier la relation entre le score du test de Wechsler à la \n",
    "visite initiale et différentes caractéristiques des sujets.\n",
    "\n",
    "Les données sont dans le fichier *cweschler.txt*. Il contient des informations sur 501 sujets :\n",
    "\n",
    "* ayant effectués les cinq tests précités à T0, T1, T3 et T5,\n",
    "* ayant été vus à T8 et non déments à T8,\n",
    "* n’étant ni sourds, ni aveugles ;\n",
    "* n’étant pas confinés au lit ;\n",
    "* n’ayant pas eu d’AVC, ni de traumatismes crâniens pendant les 5 premières années de suivi.\n",
    "\n",
    "Les variables disponibles sont les suivantes :\n",
    "\n",
    "numero : numéro d’identification\n",
    "\n",
    "*age* : âge à T0 (en années)\n",
    "\n",
    "*sexe* : sexe\n",
    "* 0=hommes\n",
    "* 1=femmes\n",
    "\n",
    "metier : profession\n",
    "* 0=femme au foyer\n",
    "* 1=ouvrier agricole\n",
    "* 2=exploitant agricole\n",
    "* 3=employé de service\n",
    "* 4=ouvrier\n",
    "* 5=artisan-commerçant\n",
    "* 6=autres employés\n",
    "* 7=profession intellectuelle\n",
    "\n",
    "*codew0* : score au test de Wechsler à T0\n",
    "\n",
    "*comvin* : consommation de vin déclarée à T0\n",
    "* 0=non buveur\n",
    "* 1=1/4 de litre /jour\n",
    "* 2=1/2 litre /jour ou plus\n",
    "\n",
    "*certif *: niveau d’études\n",
    "* 0=sans certificat d’études primaire\n",
    "* 1=avec certificat d’études primaire\n"
   ]
  },
  {
   "cell_type": "code",
   "execution_count": 47,
   "id": "a9a01e3f",
   "metadata": {},
   "outputs": [
    {
     "data": {
      "text/html": [
       "<div>\n",
       "<style scoped>\n",
       "    .dataframe tbody tr th:only-of-type {\n",
       "        vertical-align: middle;\n",
       "    }\n",
       "\n",
       "    .dataframe tbody tr th {\n",
       "        vertical-align: top;\n",
       "    }\n",
       "\n",
       "    .dataframe thead th {\n",
       "        text-align: right;\n",
       "    }\n",
       "</style>\n",
       "<table border=\"1\" class=\"dataframe\">\n",
       "  <thead>\n",
       "    <tr style=\"text-align: right;\">\n",
       "      <th></th>\n",
       "      <th>NUMERO</th>\n",
       "      <th>AGE</th>\n",
       "      <th>SEXE</th>\n",
       "      <th>METIER</th>\n",
       "      <th>CODEW0</th>\n",
       "      <th>COMVIN</th>\n",
       "      <th>CERTIF</th>\n",
       "    </tr>\n",
       "  </thead>\n",
       "  <tbody>\n",
       "    <tr>\n",
       "      <th>0</th>\n",
       "      <td>66</td>\n",
       "      <td>72</td>\n",
       "      <td>1</td>\n",
       "      <td>4</td>\n",
       "      <td>22</td>\n",
       "      <td>1</td>\n",
       "      <td>0</td>\n",
       "    </tr>\n",
       "    <tr>\n",
       "      <th>1</th>\n",
       "      <td>68</td>\n",
       "      <td>66</td>\n",
       "      <td>0</td>\n",
       "      <td>6</td>\n",
       "      <td>54</td>\n",
       "      <td>2</td>\n",
       "      <td>1</td>\n",
       "    </tr>\n",
       "    <tr>\n",
       "      <th>2</th>\n",
       "      <td>78</td>\n",
       "      <td>73</td>\n",
       "      <td>1</td>\n",
       "      <td>6</td>\n",
       "      <td>46</td>\n",
       "      <td>1</td>\n",
       "      <td>1</td>\n",
       "    </tr>\n",
       "    <tr>\n",
       "      <th>3</th>\n",
       "      <td>79</td>\n",
       "      <td>67</td>\n",
       "      <td>0</td>\n",
       "      <td>7</td>\n",
       "      <td>52</td>\n",
       "      <td>2</td>\n",
       "      <td>1</td>\n",
       "    </tr>\n",
       "    <tr>\n",
       "      <th>4</th>\n",
       "      <td>81</td>\n",
       "      <td>73</td>\n",
       "      <td>0</td>\n",
       "      <td>7</td>\n",
       "      <td>38</td>\n",
       "      <td>1</td>\n",
       "      <td>1</td>\n",
       "    </tr>\n",
       "    <tr>\n",
       "      <th>...</th>\n",
       "      <td>...</td>\n",
       "      <td>...</td>\n",
       "      <td>...</td>\n",
       "      <td>...</td>\n",
       "      <td>...</td>\n",
       "      <td>...</td>\n",
       "      <td>...</td>\n",
       "    </tr>\n",
       "    <tr>\n",
       "      <th>496</th>\n",
       "      <td>5156</td>\n",
       "      <td>68</td>\n",
       "      <td>0</td>\n",
       "      <td>6</td>\n",
       "      <td>22</td>\n",
       "      <td>1</td>\n",
       "      <td>1</td>\n",
       "    </tr>\n",
       "    <tr>\n",
       "      <th>497</th>\n",
       "      <td>5158</td>\n",
       "      <td>66</td>\n",
       "      <td>1</td>\n",
       "      <td>3</td>\n",
       "      <td>36</td>\n",
       "      <td>0</td>\n",
       "      <td>0</td>\n",
       "    </tr>\n",
       "    <tr>\n",
       "      <th>498</th>\n",
       "      <td>5160</td>\n",
       "      <td>70</td>\n",
       "      <td>0</td>\n",
       "      <td>6</td>\n",
       "      <td>56</td>\n",
       "      <td>1</td>\n",
       "      <td>1</td>\n",
       "    </tr>\n",
       "    <tr>\n",
       "      <th>499</th>\n",
       "      <td>5161</td>\n",
       "      <td>71</td>\n",
       "      <td>0</td>\n",
       "      <td>4</td>\n",
       "      <td>43</td>\n",
       "      <td>2</td>\n",
       "      <td>1</td>\n",
       "    </tr>\n",
       "    <tr>\n",
       "      <th>500</th>\n",
       "      <td>5166</td>\n",
       "      <td>71</td>\n",
       "      <td>1</td>\n",
       "      <td>4</td>\n",
       "      <td>30</td>\n",
       "      <td>1</td>\n",
       "      <td>0</td>\n",
       "    </tr>\n",
       "  </tbody>\n",
       "</table>\n",
       "<p>501 rows × 7 columns</p>\n",
       "</div>"
      ],
      "text/plain": [
       "     NUMERO  AGE  SEXE  METIER  CODEW0  COMVIN  CERTIF\n",
       "0        66   72     1       4      22       1       0\n",
       "1        68   66     0       6      54       2       1\n",
       "2        78   73     1       6      46       1       1\n",
       "3        79   67     0       7      52       2       1\n",
       "4        81   73     0       7      38       1       1\n",
       "..      ...  ...   ...     ...     ...     ...     ...\n",
       "496    5156   68     0       6      22       1       1\n",
       "497    5158   66     1       3      36       0       0\n",
       "498    5160   70     0       6      56       1       1\n",
       "499    5161   71     0       4      43       2       1\n",
       "500    5166   71     1       4      30       1       0\n",
       "\n",
       "[501 rows x 7 columns]"
      ]
     },
     "execution_count": 47,
     "metadata": {},
     "output_type": "execute_result"
    }
   ],
   "source": [
    "data = pd.read_csv(\"./cweschler.csv\",sep=\";\")\n",
    "# Pour  les utilisateurs Google colab\n",
    "#url = 'https://raw.githubusercontent.com/jremiat/Regression/main/data/cweschler.csv'\n",
    "#data = pd.read_csv(url)\n",
    "data"
   ]
  },
  {
   "cell_type": "code",
   "execution_count": 48,
   "id": "3de01a50",
   "metadata": {},
   "outputs": [
    {
     "data": {
      "text/html": [
       "<div>\n",
       "<style scoped>\n",
       "    .dataframe tbody tr th:only-of-type {\n",
       "        vertical-align: middle;\n",
       "    }\n",
       "\n",
       "    .dataframe tbody tr th {\n",
       "        vertical-align: top;\n",
       "    }\n",
       "\n",
       "    .dataframe thead th {\n",
       "        text-align: right;\n",
       "    }\n",
       "</style>\n",
       "<table border=\"1\" class=\"dataframe\">\n",
       "  <thead>\n",
       "    <tr style=\"text-align: right;\">\n",
       "      <th></th>\n",
       "      <th>NUMERO</th>\n",
       "      <th>AGE</th>\n",
       "      <th>SEXE</th>\n",
       "      <th>METIER</th>\n",
       "      <th>CODEW0</th>\n",
       "      <th>COMVIN</th>\n",
       "      <th>CERTIF</th>\n",
       "    </tr>\n",
       "  </thead>\n",
       "  <tbody>\n",
       "    <tr>\n",
       "      <th>0</th>\n",
       "      <td>66</td>\n",
       "      <td>72</td>\n",
       "      <td>1</td>\n",
       "      <td>4</td>\n",
       "      <td>22</td>\n",
       "      <td>1</td>\n",
       "      <td>0</td>\n",
       "    </tr>\n",
       "    <tr>\n",
       "      <th>1</th>\n",
       "      <td>68</td>\n",
       "      <td>66</td>\n",
       "      <td>0</td>\n",
       "      <td>6</td>\n",
       "      <td>54</td>\n",
       "      <td>2</td>\n",
       "      <td>1</td>\n",
       "    </tr>\n",
       "    <tr>\n",
       "      <th>2</th>\n",
       "      <td>78</td>\n",
       "      <td>73</td>\n",
       "      <td>1</td>\n",
       "      <td>6</td>\n",
       "      <td>46</td>\n",
       "      <td>1</td>\n",
       "      <td>1</td>\n",
       "    </tr>\n",
       "    <tr>\n",
       "      <th>3</th>\n",
       "      <td>79</td>\n",
       "      <td>67</td>\n",
       "      <td>0</td>\n",
       "      <td>7</td>\n",
       "      <td>52</td>\n",
       "      <td>2</td>\n",
       "      <td>1</td>\n",
       "    </tr>\n",
       "    <tr>\n",
       "      <th>4</th>\n",
       "      <td>81</td>\n",
       "      <td>73</td>\n",
       "      <td>0</td>\n",
       "      <td>7</td>\n",
       "      <td>38</td>\n",
       "      <td>1</td>\n",
       "      <td>1</td>\n",
       "    </tr>\n",
       "  </tbody>\n",
       "</table>\n",
       "</div>"
      ],
      "text/plain": [
       "   NUMERO  AGE  SEXE  METIER  CODEW0  COMVIN  CERTIF\n",
       "0      66   72     1       4      22       1       0\n",
       "1      68   66     0       6      54       2       1\n",
       "2      78   73     1       6      46       1       1\n",
       "3      79   67     0       7      52       2       1\n",
       "4      81   73     0       7      38       1       1"
      ]
     },
     "execution_count": 48,
     "metadata": {},
     "output_type": "execute_result"
    }
   ],
   "source": [
    "data.head(5)"
   ]
  },
  {
   "cell_type": "markdown",
   "id": "0c7be4e2",
   "metadata": {},
   "source": [
    "## Statistiques descriptives\n",
    "\n",
    "### 2) Décrire la distribution de l'âge et du score à l'aide de graphiques appropriés"
   ]
  },
  {
   "cell_type": "code",
   "execution_count": 49,
   "id": "f78f72d6",
   "metadata": {},
   "outputs": [
    {
     "data": {
      "text/plain": [
       "(array([ 1., 11., 14., 21., 39., 63., 61., 45., 46., 47., 52., 27., 27.,\n",
       "        18., 11., 11.,  2.,  1.,  1.,  3.]),\n",
       " array([11.  , 13.95, 16.9 , 19.85, 22.8 , 25.75, 28.7 , 31.65, 34.6 ,\n",
       "        37.55, 40.5 , 43.45, 46.4 , 49.35, 52.3 , 55.25, 58.2 , 61.15,\n",
       "        64.1 , 67.05, 70.  ]),\n",
       " <BarContainer object of 20 artists>)"
      ]
     },
     "execution_count": 49,
     "metadata": {},
     "output_type": "execute_result"
    },
    {
     "data": {
      "image/png": "[encoded data removed]",
      "text/plain": [
       "<Figure size 640x480 with 1 Axes>"
      ]
     },
     "metadata": {},
     "output_type": "display_data"
    }
   ],
   "source": [
    "plt.hist(data.filter([\"CODEW0\"]), bins=20)"
   ]
  },
  {
   "cell_type": "code",
   "execution_count": 50,
   "id": "d4c04200",
   "metadata": {},
   "outputs": [
    {
     "data": {
      "text/plain": [
       "(array([92., 69., 62., 32., 32., 29., 45., 32., 18., 26., 12., 12.,  8.,\n",
       "        19.,  4.,  1.,  1.,  5.,  0.,  2.]),\n",
       " array([65.  , 66.15, 67.3 , 68.45, 69.6 , 70.75, 71.9 , 73.05, 74.2 ,\n",
       "        75.35, 76.5 , 77.65, 78.8 , 79.95, 81.1 , 82.25, 83.4 , 84.55,\n",
       "        85.7 , 86.85, 88.  ]),\n",
       " <BarContainer object of 20 artists>)"
      ]
     },
     "execution_count": 50,
     "metadata": {},
     "output_type": "execute_result"
    },
    {
     "data": {
      "image/png": "[encoded data removed]",
      "text/plain": [
       "<Figure size 640x480 with 1 Axes>"
      ]
     },
     "metadata": {},
     "output_type": "display_data"
    }
   ],
   "source": [
    "plt.hist(data.filter([\"AGE\"]), bins=20)"
   ]
  },
  {
   "cell_type": "markdown",
   "id": "fe472263",
   "metadata": {},
   "source": [
    "### 3) Décrire numériquement toutes les variables"
   ]
  },
  {
   "cell_type": "markdown",
   "id": "8005c668",
   "metadata": {},
   "source": [
    "#### a) Variable quantitative\n"
   ]
  },
  {
   "cell_type": "code",
   "execution_count": 51,
   "id": "8a1c403e",
   "metadata": {},
   "outputs": [
    {
     "data": {
      "text/html": [
       "<div>\n",
       "<style scoped>\n",
       "    .dataframe tbody tr th:only-of-type {\n",
       "        vertical-align: middle;\n",
       "    }\n",
       "\n",
       "    .dataframe tbody tr th {\n",
       "        vertical-align: top;\n",
       "    }\n",
       "\n",
       "    .dataframe thead th {\n",
       "        text-align: right;\n",
       "    }\n",
       "</style>\n",
       "<table border=\"1\" class=\"dataframe\">\n",
       "  <thead>\n",
       "    <tr style=\"text-align: right;\">\n",
       "      <th></th>\n",
       "      <th>AGE</th>\n",
       "      <th>CODEW0</th>\n",
       "    </tr>\n",
       "  </thead>\n",
       "  <tbody>\n",
       "    <tr>\n",
       "      <th>count</th>\n",
       "      <td>501.000000</td>\n",
       "      <td>501.000000</td>\n",
       "    </tr>\n",
       "    <tr>\n",
       "      <th>mean</th>\n",
       "      <td>70.804391</td>\n",
       "      <td>35.165669</td>\n",
       "    </tr>\n",
       "    <tr>\n",
       "      <th>std</th>\n",
       "      <td>4.730080</td>\n",
       "      <td>10.424514</td>\n",
       "    </tr>\n",
       "    <tr>\n",
       "      <th>min</th>\n",
       "      <td>65.000000</td>\n",
       "      <td>11.000000</td>\n",
       "    </tr>\n",
       "    <tr>\n",
       "      <th>25%</th>\n",
       "      <td>67.000000</td>\n",
       "      <td>27.000000</td>\n",
       "    </tr>\n",
       "    <tr>\n",
       "      <th>50%</th>\n",
       "      <td>69.000000</td>\n",
       "      <td>34.000000</td>\n",
       "    </tr>\n",
       "    <tr>\n",
       "      <th>75%</th>\n",
       "      <td>74.000000</td>\n",
       "      <td>42.000000</td>\n",
       "    </tr>\n",
       "    <tr>\n",
       "      <th>max</th>\n",
       "      <td>88.000000</td>\n",
       "      <td>70.000000</td>\n",
       "    </tr>\n",
       "  </tbody>\n",
       "</table>\n",
       "</div>"
      ],
      "text/plain": [
       "              AGE      CODEW0\n",
       "count  501.000000  501.000000\n",
       "mean    70.804391   35.165669\n",
       "std      4.730080   10.424514\n",
       "min     65.000000   11.000000\n",
       "25%     67.000000   27.000000\n",
       "50%     69.000000   34.000000\n",
       "75%     74.000000   42.000000\n",
       "max     88.000000   70.000000"
      ]
     },
     "execution_count": 51,
     "metadata": {},
     "output_type": "execute_result"
    }
   ],
   "source": [
    "quanti=data.filter([\"AGE\",\"CODEW0\"])\n",
    "quanti.describe()"
   ]
  },
  {
   "cell_type": "markdown",
   "id": "bf9f2b43",
   "metadata": {},
   "source": [
    "#### b) Variable catégorielle\n"
   ]
  },
  {
   "cell_type": "code",
   "execution_count": 52,
   "id": "dcb305f3",
   "metadata": {},
   "outputs": [
    {
     "data": {
      "text/html": [
       "<div>\n",
       "<style scoped>\n",
       "    .dataframe tbody tr th:only-of-type {\n",
       "        vertical-align: middle;\n",
       "    }\n",
       "\n",
       "    .dataframe tbody tr th {\n",
       "        vertical-align: top;\n",
       "    }\n",
       "\n",
       "    .dataframe thead th {\n",
       "        text-align: right;\n",
       "    }\n",
       "</style>\n",
       "<table border=\"1\" class=\"dataframe\">\n",
       "  <thead>\n",
       "    <tr style=\"text-align: right;\">\n",
       "      <th></th>\n",
       "      <th>SEXE</th>\n",
       "      <th>METIER</th>\n",
       "      <th>COMVIN</th>\n",
       "      <th>CERTIF</th>\n",
       "    </tr>\n",
       "  </thead>\n",
       "  <tbody>\n",
       "    <tr>\n",
       "      <th>0</th>\n",
       "      <td>221.0</td>\n",
       "      <td>44</td>\n",
       "      <td>200.0</td>\n",
       "      <td>304.0</td>\n",
       "    </tr>\n",
       "    <tr>\n",
       "      <th>1</th>\n",
       "      <td>280.0</td>\n",
       "      <td>10</td>\n",
       "      <td>205.0</td>\n",
       "      <td>197.0</td>\n",
       "    </tr>\n",
       "    <tr>\n",
       "      <th>2</th>\n",
       "      <td>NaN</td>\n",
       "      <td>26</td>\n",
       "      <td>96.0</td>\n",
       "      <td>NaN</td>\n",
       "    </tr>\n",
       "    <tr>\n",
       "      <th>3</th>\n",
       "      <td>NaN</td>\n",
       "      <td>29</td>\n",
       "      <td>NaN</td>\n",
       "      <td>NaN</td>\n",
       "    </tr>\n",
       "    <tr>\n",
       "      <th>4</th>\n",
       "      <td>NaN</td>\n",
       "      <td>63</td>\n",
       "      <td>NaN</td>\n",
       "      <td>NaN</td>\n",
       "    </tr>\n",
       "    <tr>\n",
       "      <th>5</th>\n",
       "      <td>NaN</td>\n",
       "      <td>62</td>\n",
       "      <td>NaN</td>\n",
       "      <td>NaN</td>\n",
       "    </tr>\n",
       "    <tr>\n",
       "      <th>6</th>\n",
       "      <td>NaN</td>\n",
       "      <td>178</td>\n",
       "      <td>NaN</td>\n",
       "      <td>NaN</td>\n",
       "    </tr>\n",
       "    <tr>\n",
       "      <th>7</th>\n",
       "      <td>NaN</td>\n",
       "      <td>89</td>\n",
       "      <td>NaN</td>\n",
       "      <td>NaN</td>\n",
       "    </tr>\n",
       "  </tbody>\n",
       "</table>\n",
       "</div>"
      ],
      "text/plain": [
       "    SEXE  METIER  COMVIN  CERTIF\n",
       "0  221.0      44   200.0   304.0\n",
       "1  280.0      10   205.0   197.0\n",
       "2    NaN      26    96.0     NaN\n",
       "3    NaN      29     NaN     NaN\n",
       "4    NaN      63     NaN     NaN\n",
       "5    NaN      62     NaN     NaN\n",
       "6    NaN     178     NaN     NaN\n",
       "7    NaN      89     NaN     NaN"
      ]
     },
     "execution_count": 52,
     "metadata": {},
     "output_type": "execute_result"
    }
   ],
   "source": [
    "quali=data.filter([\"SEXE\",\"METIER\",\"COMVIN\",\"CERTIF\"])\n",
    "quali.apply(lambda x: x.value_counts())"
   ]
  },
  {
   "cell_type": "markdown",
   "id": "57f56be8",
   "metadata": {},
   "source": [
    "## Régression linéaire simple\n",
    "\n",
    "### 3) Estimer l'association brute entre le score au test de Wechsler et l'âge (en quantitatif)\n",
    "#### a) Sur papier : \n",
    "###### i) Ecrire l'équations du modèle\n",
    "$CODEW0_i=\\beta_0+\\beta_1AGE_i+\\epsilon_i$\n",
    "\n",
    "##### ii) Donner les conditions d'applications de ce modèle et ce qu'elles signifient concrètement ici\n",
    "Les 4 conditions sont homocédasticités, normalité, linéarité et indépendance.\n",
    "\n",
    "* Homocédasticité:  Pour chaque âge, la variable score est dispersée avec la même amplitude : $Var(CODEW0|Age)=s^2$\n",
    "* Linéarité: Quand on augmente d'un an d'âge, le score moyen augmente de $\\beta_1$ ou E($\\epsilon_i$)=0\n",
    "* Normalité: Pour un âge fixé, la variable score doit avoir une distribution normale $CODEW0_i|Age_i\\sim \\mathcal{N}$\n",
    "* Indépendance : le score d'un individu i n'influence pas celui de j : pas d'appariement, d'avant/après.\n",
    "##### iii) Donner l'interprétation des coefficients de l'équation\n",
    "#### b) A partir des données :\n",
    "##### i) Tracer les graphiques nécessaires pour étudier les conditions d'application de modèle\n"
   ]
  },
  {
   "cell_type": "code",
   "execution_count": 53,
   "id": "5385302e",
   "metadata": {},
   "outputs": [
    {
     "data": {
      "text/plain": [
       "(array([ 1., 11., 14., 21., 39., 63., 61., 45., 46., 47., 52., 27., 27.,\n",
       "        18., 11., 11.,  2.,  1.,  1.,  3.]),\n",
       " array([11.  , 13.95, 16.9 , 19.85, 22.8 , 25.75, 28.7 , 31.65, 34.6 ,\n",
       "        37.55, 40.5 , 43.45, 46.4 , 49.35, 52.3 , 55.25, 58.2 , 61.15,\n",
       "        64.1 , 67.05, 70.  ]),\n",
       " <BarContainer object of 20 artists>)"
      ]
     },
     "execution_count": 53,
     "metadata": {},
     "output_type": "execute_result"
    },
    {
     "data": {
      "image/png": "[encoded data removed]",
      "text/plain": [
       "<Figure size 640x480 with 1 Axes>"
      ]
     },
     "metadata": {},
     "output_type": "display_data"
    }
   ],
   "source": [
    "#selection de la deuxième colonne de notre dataset (l'age)\n",
    "X = data.iloc[0:len(data),1]\n",
    "#selection de cinquième colonne de notre dataset (le score obtenu)\n",
    "Y = data.iloc[0:len(data),4] \n",
    "\n",
    "#distribution du score\n",
    "plt.hist(Y, bins=20)\n",
    "\n"
   ]
  },
  {
   "cell_type": "code",
   "execution_count": 54,
   "id": "2773270f",
   "metadata": {},
   "outputs": [
    {
     "data": {
      "image/png": "[encoded data removed]",
      "text/plain": [
       "<Figure size 640x480 with 1 Axes>"
      ]
     },
     "metadata": {},
     "output_type": "display_data"
    }
   ],
   "source": [
    "#Nuage de points\n",
    "axes = plt.axes()\n",
    "axes.grid() # dessiner une grille pour une meilleur lisibilité du graphe\n",
    "plt.scatter(X,Y) # X et Y sont les variables qu'on a extraite \n",
    "plt.show()"
   ]
  },
  {
   "cell_type": "markdown",
   "id": "e1c0b4cc",
   "metadata": {},
   "source": [
    "##### ii) Estimer le coefficient de corrélation de Pearson entre les deux variables"
   ]
  },
  {
   "cell_type": "code",
   "execution_count": 55,
   "id": "9d600406",
   "metadata": {},
   "outputs": [
    {
     "data": {
      "text/plain": [
       "PearsonRResult(statistic=-0.3073190121482897, pvalue=2.0294950515514917e-12)"
      ]
     },
     "execution_count": 55,
     "metadata": {},
     "output_type": "execute_result"
    }
   ],
   "source": [
    "stats.pearsonr(data.iloc[0:len(data),1], data.iloc[0:len(data),4])"
   ]
  },
  {
   "cell_type": "markdown",
   "id": "d7ab524f",
   "metadata": {},
   "source": [
    "##### iii) Estimer le modèle"
   ]
  },
  {
   "cell_type": "code",
   "execution_count": 56,
   "id": "85c0d485",
   "metadata": {},
   "outputs": [
    {
     "name": "stdout",
     "output_type": "stream",
     "text": [
      "                            OLS Regression Results                            \n",
      "==============================================================================\n",
      "Dep. Variable:                 CODEW0   R-squared:                       0.094\n",
      "Model:                            OLS   Adj. R-squared:                  0.093\n",
      "Method:                 Least Squares   F-statistic:                     52.04\n",
      "Date:                Mon, 13 Nov 2023   Prob (F-statistic):           2.03e-12\n",
      "Time:                        16:54:35   Log-Likelihood:                -1860.0\n",
      "No. Observations:                 501   AIC:                             3724.\n",
      "Df Residuals:                     499   BIC:                             3732.\n",
      "Df Model:                           1                                         \n",
      "Covariance Type:            nonrobust                                         \n",
      "==============================================================================\n",
      "                 coef    std err          t      P>|t|      [0.025      0.975]\n",
      "------------------------------------------------------------------------------\n",
      "Intercept     83.1210      6.662     12.476      0.000      70.032      96.210\n",
      "AGE           -0.6773      0.094     -7.214      0.000      -0.862      -0.493\n",
      "==============================================================================\n",
      "Omnibus:                       12.945   Durbin-Watson:                   1.946\n",
      "Prob(Omnibus):                  0.002   Jarque-Bera (JB):               13.590\n",
      "Skew:                           0.401   Prob(JB):                      0.00112\n",
      "Kurtosis:                       2.916   Cond. No.                     1.07e+03\n",
      "==============================================================================\n",
      "\n",
      "Notes:\n",
      "[1] Standard Errors assume that the covariance matrix of the errors is correctly specified.\n",
      "[2] The condition number is large, 1.07e+03. This might indicate that there are\n",
      "strong multicollinearity or other numerical problems.\n"
     ]
    }
   ],
   "source": [
    "mod1 = smf.ols(formula='CODEW0 ~  AGE ', data=data)\n",
    "modele1 = mod1.fit()\n",
    " \n",
    "print(modele1.summary())"
   ]
  },
  {
   "cell_type": "code",
   "execution_count": 57,
   "id": "b4d4fe64",
   "metadata": {},
   "outputs": [
    {
     "name": "stdout",
     "output_type": "stream",
     "text": [
      "LinregressResult(slope=-0.6772932315265199, intercept=83.1210035966871, rvalue=-0.3073190121482895, pvalue=2.029495051551611e-12, stderr=0.0938846208195825, intercept_stderr=6.662230787538228)\n"
     ]
    }
   ],
   "source": [
    "#Autre méthode\n",
    "slope, intercept, r_value, p_value, std_err = stats.linregress(X, Y)\n",
    "print(stats.linregress(X, Y))"
   ]
  },
  {
   "cell_type": "code",
   "execution_count": 58,
   "id": "86f3b391",
   "metadata": {},
   "outputs": [
    {
     "name": "stdout",
     "output_type": "stream",
     "text": [
      "LinregressResult(slope=-0.6772932315265199, intercept=83.1210035966871, rvalue=-0.3073190121482895, pvalue=2.029495051551611e-12, stderr=0.0938846208195825, intercept_stderr=6.662230787538228)\n"
     ]
    }
   ],
   "source": [
    "#Autre méthode\n",
    "slope, intercept, r_value, p_value, std_err = stats.linregress(data.iloc[0:len(data),1], data.iloc[0:len(data),4])\n",
    "print(stats.linregress(data.iloc[0:len(data),1], data.iloc[0:len(data),4]))\n"
   ]
  },
  {
   "cell_type": "code",
   "execution_count": 59,
   "id": "e14d8168",
   "metadata": {},
   "outputs": [
    {
     "name": "stdout",
     "output_type": "stream",
     "text": [
      "                            OLS Regression Results                            \n",
      "==============================================================================\n",
      "Dep. Variable:                 CODEW0   R-squared:                       0.094\n",
      "Model:                            OLS   Adj. R-squared:                  0.093\n",
      "Method:                 Least Squares   F-statistic:                     52.04\n",
      "Date:                Mon, 13 Nov 2023   Prob (F-statistic):           2.03e-12\n",
      "Time:                        16:54:35   Log-Likelihood:                -1860.0\n",
      "No. Observations:                 501   AIC:                             3724.\n",
      "Df Residuals:                     499   BIC:                             3732.\n",
      "Df Model:                           1                                         \n",
      "Covariance Type:            nonrobust                                         \n",
      "==============================================================================\n",
      "                 coef    std err          t      P>|t|      [0.025      0.975]\n",
      "------------------------------------------------------------------------------\n",
      "const         83.1210      6.662     12.476      0.000      70.032      96.210\n",
      "AGE           -0.6773      0.094     -7.214      0.000      -0.862      -0.493\n",
      "==============================================================================\n",
      "Omnibus:                       12.945   Durbin-Watson:                   1.946\n",
      "Prob(Omnibus):                  0.002   Jarque-Bera (JB):               13.590\n",
      "Skew:                           0.401   Prob(JB):                      0.00112\n",
      "Kurtosis:                       2.916   Cond. No.                     1.07e+03\n",
      "==============================================================================\n",
      "\n",
      "Notes:\n",
      "[1] Standard Errors assume that the covariance matrix of the errors is correctly specified.\n",
      "[2] The condition number is large, 1.07e+03. This might indicate that there are\n",
      "strong multicollinearity or other numerical problems.\n"
     ]
    }
   ],
   "source": [
    "#Autre méthode :\n",
    "# Récupérer l'ensemble des valeurs de la variable cible\n",
    "Y = data[\"CODEW0\"]\n",
    "# Récupérer les variables prédictives et ajouter constante pour avoir intercept \n",
    "X = sm.add_constant(data[['AGE']])\n",
    "\n",
    "est = OLS(Y, X).fit()\n",
    " \n",
    "print(est.summary())"
   ]
  },
  {
   "cell_type": "code",
   "execution_count": 60,
   "id": "5a97c286",
   "metadata": {},
   "outputs": [
    {
     "name": "stdout",
     "output_type": "stream",
     "text": [
      "                            OLS Regression Results                            \n",
      "==============================================================================\n",
      "Dep. Variable:                 CODEW0   R-squared:                       0.094\n",
      "Model:                            OLS   Adj. R-squared:                  0.093\n",
      "Method:                 Least Squares   F-statistic:                     52.04\n",
      "Date:                Mon, 13 Nov 2023   Prob (F-statistic):           2.03e-12\n",
      "Time:                        16:54:35   Log-Likelihood:                -1860.0\n",
      "No. Observations:                 501   AIC:                             3724.\n",
      "Df Residuals:                     499   BIC:                             3732.\n",
      "Df Model:                           1                                         \n",
      "Covariance Type:            nonrobust                                         \n",
      "==============================================================================\n",
      "                 coef    std err          t      P>|t|      [0.025      0.975]\n",
      "------------------------------------------------------------------------------\n",
      "Intercept     83.1210      6.662     12.476      0.000      70.032      96.210\n",
      "AGE10         -6.7729      0.939     -7.214      0.000      -8.618      -4.928\n",
      "==============================================================================\n",
      "Omnibus:                       12.945   Durbin-Watson:                   1.946\n",
      "Prob(Omnibus):                  0.002   Jarque-Bera (JB):               13.590\n",
      "Skew:                           0.401   Prob(JB):                      0.00112\n",
      "Kurtosis:                       2.916   Cond. No.                         109.\n",
      "==============================================================================\n",
      "\n",
      "Notes:\n",
      "[1] Standard Errors assume that the covariance matrix of the errors is correctly specified.\n"
     ]
    }
   ],
   "source": [
    "#Si on veut pour 10 ans d'âge\n",
    "data['AGE10']=data['AGE']/10\n",
    "mod1bis = smf.ols(formula='CODEW0 ~  AGE10 ', data=data)\n",
    "modele1bis = mod1bis.fit()\n",
    " \n",
    "print(modele1bis.summary())"
   ]
  },
  {
   "cell_type": "markdown",
   "id": "210d2741",
   "metadata": {},
   "source": [
    "##### iv) Présenter dans un tableau les résultats\n",
    "Mesure d’association brute entre score et âge du sous échantillon de la cohorte Paquid (n=501) \n",
    "| Variables | Différence moyenne estimée au score de Weschler | IC à 95% | P-valeur|\n",
    "| --- | --- | --- | --- |\n",
    "| Age (pour 10 ans) | -6.77 | -8.62;-4.93 | <0.001 |\n",
    "\n",
    "##### v) Interprétation des résultats"
   ]
  },
  {
   "cell_type": "markdown",
   "id": "a4852f19",
   "metadata": {},
   "source": [
    "### 4) Estimer l'association brute entre le score et le sexe "
   ]
  },
  {
   "cell_type": "markdown",
   "id": "19d295b4",
   "metadata": {},
   "source": [
    "#### a) Ecrire sur papier l'équation du modèle\n",
    "$CODEW0_i=\\beta_0+\\beta_1SEXE_i+\\epsilon_i$\n",
    "#### b) Estimer le modèle et interpréter les résultats"
   ]
  },
  {
   "cell_type": "code",
   "execution_count": 61,
   "id": "1d79de8a",
   "metadata": {},
   "outputs": [
    {
     "name": "stdout",
     "output_type": "stream",
     "text": [
      "                            OLS Regression Results                            \n",
      "==============================================================================\n",
      "Dep. Variable:                 CODEW0   R-squared:                       0.020\n",
      "Model:                            OLS   Adj. R-squared:                  0.018\n",
      "Method:                 Least Squares   F-statistic:                     10.13\n",
      "Date:                Mon, 13 Nov 2023   Prob (F-statistic):            0.00155\n",
      "Time:                        16:54:35   Log-Likelihood:                -1879.8\n",
      "No. Observations:                 501   AIC:                             3764.\n",
      "Df Residuals:                     499   BIC:                             3772.\n",
      "Df Model:                           1                                         \n",
      "Covariance Type:            nonrobust                                         \n",
      "==============================================================================\n",
      "                 coef    std err          t      P>|t|      [0.025      0.975]\n",
      "------------------------------------------------------------------------------\n",
      "Intercept     36.8190      0.695     52.984      0.000      35.454      38.184\n",
      "SEXE          -2.9583      0.930     -3.183      0.002      -4.785      -1.132\n",
      "==============================================================================\n",
      "Omnibus:                       12.244   Durbin-Watson:                   1.971\n",
      "Prob(Omnibus):                  0.002   Jarque-Bera (JB):               12.705\n",
      "Skew:                           0.390   Prob(JB):                      0.00174\n",
      "Kurtosis:                       2.998   Cond. No.                         2.78\n",
      "==============================================================================\n",
      "\n",
      "Notes:\n",
      "[1] Standard Errors assume that the covariance matrix of the errors is correctly specified.\n"
     ]
    }
   ],
   "source": [
    "mod2 = smf.ols(formula='CODEW0 ~  SEXE ', data=data)\n",
    "modele2 = mod2.fit()\n",
    " \n",
    "print(modele2.summary())"
   ]
  },
  {
   "cell_type": "markdown",
   "id": "e7071159",
   "metadata": {},
   "source": [
    "### 5) Estimer l'association brute entre le score et le niveau d'étude"
   ]
  },
  {
   "cell_type": "markdown",
   "id": "1e7a24a2",
   "metadata": {},
   "source": [
    "#### a) Sur papier, écrire l'équation du modèle\n",
    "$CODEW0_i=\\beta_0+\\beta_1Certif_i+\\epsilon_i$"
   ]
  },
  {
   "cell_type": "markdown",
   "id": "9cbdd86f",
   "metadata": {},
   "source": [
    "#### b) Estimer le modèle et interpréter les résultats"
   ]
  },
  {
   "cell_type": "code",
   "execution_count": 62,
   "id": "2a73fede",
   "metadata": {},
   "outputs": [
    {
     "name": "stdout",
     "output_type": "stream",
     "text": [
      "                            OLS Regression Results                            \n",
      "==============================================================================\n",
      "Dep. Variable:                 CODEW0   R-squared:                       0.242\n",
      "Model:                            OLS   Adj. R-squared:                  0.240\n",
      "Method:                 Least Squares   F-statistic:                     159.2\n",
      "Date:                Mon, 13 Nov 2023   Prob (F-statistic):           7.16e-32\n",
      "Time:                        16:54:35   Log-Likelihood:                -1815.5\n",
      "No. Observations:                 501   AIC:                             3635.\n",
      "Df Residuals:                     499   BIC:                             3643.\n",
      "Df Model:                           1                                         \n",
      "Covariance Type:            nonrobust                                         \n",
      "==============================================================================\n",
      "                 coef    std err          t      P>|t|      [0.025      0.975]\n",
      "------------------------------------------------------------------------------\n",
      "Intercept     31.0428      0.521     59.571      0.000      30.019      32.067\n",
      "CERTIF        10.4852      0.831     12.617      0.000       8.852      12.118\n",
      "==============================================================================\n",
      "Omnibus:                       23.203   Durbin-Watson:                   1.981\n",
      "Prob(Omnibus):                  0.000   Jarque-Bera (JB):               27.621\n",
      "Skew:                           0.454   Prob(JB):                     1.00e-06\n",
      "Kurtosis:                       3.707   Cond. No.                         2.44\n",
      "==============================================================================\n",
      "\n",
      "Notes:\n",
      "[1] Standard Errors assume that the covariance matrix of the errors is correctly specified.\n"
     ]
    }
   ],
   "source": [
    "mod3 = smf.ols(formula='CODEW0 ~  CERTIF ', data=data)\n",
    "modele3 = mod3.fit()\n",
    " \n",
    "print(modele3.summary())"
   ]
  },
  {
   "cell_type": "markdown",
   "id": "4d51710e",
   "metadata": {},
   "source": [
    "## Régresssion linéaire multiple : association entre le score et la consommation de vin, ajustée sur l'âge et le niveau d'éducation\n",
    "### a) Sur papier, écrire l'équation du modèle\n",
    "$CODEW0_i=\\beta_0+\\beta_1Comvin1_i+\\beta_2Comvin2_i+\\beta_3age_i+\\beta_4Certif_i+\\epsilon_i$\n",
    "### b) Estimer le modèle et interpréter les résultats\n",
    "D'après l'équation, on voit qu'il faut créer 2 variables indicatrices pour la consommation de vin pour obtenir les deux $\\beta$ correspondants"
   ]
  },
  {
   "cell_type": "code",
   "execution_count": 63,
   "id": "80a0c342",
   "metadata": {},
   "outputs": [
    {
     "data": {
      "text/html": [
       "<div>\n",
       "<style scoped>\n",
       "    .dataframe tbody tr th:only-of-type {\n",
       "        vertical-align: middle;\n",
       "    }\n",
       "\n",
       "    .dataframe tbody tr th {\n",
       "        vertical-align: top;\n",
       "    }\n",
       "\n",
       "    .dataframe thead th {\n",
       "        text-align: right;\n",
       "    }\n",
       "</style>\n",
       "<table border=\"1\" class=\"dataframe\">\n",
       "  <thead>\n",
       "    <tr style=\"text-align: right;\">\n",
       "      <th></th>\n",
       "      <th>NUMERO</th>\n",
       "      <th>AGE</th>\n",
       "      <th>SEXE</th>\n",
       "      <th>METIER</th>\n",
       "      <th>CODEW0</th>\n",
       "      <th>COMVIN</th>\n",
       "      <th>CERTIF</th>\n",
       "      <th>AGE10</th>\n",
       "      <th>COMVIN1</th>\n",
       "      <th>COMVIN2</th>\n",
       "    </tr>\n",
       "  </thead>\n",
       "  <tbody>\n",
       "    <tr>\n",
       "      <th>0</th>\n",
       "      <td>66</td>\n",
       "      <td>72</td>\n",
       "      <td>1</td>\n",
       "      <td>4</td>\n",
       "      <td>22</td>\n",
       "      <td>1</td>\n",
       "      <td>0</td>\n",
       "      <td>7.2</td>\n",
       "      <td>1</td>\n",
       "      <td>0</td>\n",
       "    </tr>\n",
       "    <tr>\n",
       "      <th>1</th>\n",
       "      <td>68</td>\n",
       "      <td>66</td>\n",
       "      <td>0</td>\n",
       "      <td>6</td>\n",
       "      <td>54</td>\n",
       "      <td>2</td>\n",
       "      <td>1</td>\n",
       "      <td>6.6</td>\n",
       "      <td>0</td>\n",
       "      <td>1</td>\n",
       "    </tr>\n",
       "    <tr>\n",
       "      <th>2</th>\n",
       "      <td>78</td>\n",
       "      <td>73</td>\n",
       "      <td>1</td>\n",
       "      <td>6</td>\n",
       "      <td>46</td>\n",
       "      <td>1</td>\n",
       "      <td>1</td>\n",
       "      <td>7.3</td>\n",
       "      <td>1</td>\n",
       "      <td>0</td>\n",
       "    </tr>\n",
       "    <tr>\n",
       "      <th>3</th>\n",
       "      <td>79</td>\n",
       "      <td>67</td>\n",
       "      <td>0</td>\n",
       "      <td>7</td>\n",
       "      <td>52</td>\n",
       "      <td>2</td>\n",
       "      <td>1</td>\n",
       "      <td>6.7</td>\n",
       "      <td>0</td>\n",
       "      <td>1</td>\n",
       "    </tr>\n",
       "    <tr>\n",
       "      <th>4</th>\n",
       "      <td>81</td>\n",
       "      <td>73</td>\n",
       "      <td>0</td>\n",
       "      <td>7</td>\n",
       "      <td>38</td>\n",
       "      <td>1</td>\n",
       "      <td>1</td>\n",
       "      <td>7.3</td>\n",
       "      <td>1</td>\n",
       "      <td>0</td>\n",
       "    </tr>\n",
       "  </tbody>\n",
       "</table>\n",
       "</div>"
      ],
      "text/plain": [
       "   NUMERO  AGE  SEXE  METIER  CODEW0  COMVIN  CERTIF  AGE10  COMVIN1  COMVIN2\n",
       "0      66   72     1       4      22       1       0    7.2        1        0\n",
       "1      68   66     0       6      54       2       1    6.6        0        1\n",
       "2      78   73     1       6      46       1       1    7.3        1        0\n",
       "3      79   67     0       7      52       2       1    6.7        0        1\n",
       "4      81   73     0       7      38       1       1    7.3        1        0"
      ]
     },
     "execution_count": 63,
     "metadata": {},
     "output_type": "execute_result"
    }
   ],
   "source": [
    "data['COMVIN1']=np.where(data['COMVIN']==1,1,0)\n",
    "data['COMVIN2']=np.where(data['COMVIN']==2,1,0)\n",
    "data.head()"
   ]
  },
  {
   "cell_type": "code",
   "execution_count": 64,
   "id": "6c747719",
   "metadata": {},
   "outputs": [
    {
     "name": "stdout",
     "output_type": "stream",
     "text": [
      "                            OLS Regression Results                            \n",
      "==============================================================================\n",
      "Dep. Variable:                 CODEW0   R-squared:                       0.304\n",
      "Model:                            OLS   Adj. R-squared:                  0.299\n",
      "Method:                 Least Squares   F-statistic:                     54.21\n",
      "Date:                Mon, 13 Nov 2023   Prob (F-statistic):           6.63e-38\n",
      "Time:                        16:54:35   Log-Likelihood:                -1794.0\n",
      "No. Observations:                 501   AIC:                             3598.\n",
      "Df Residuals:                     496   BIC:                             3619.\n",
      "Df Model:                           4                                         \n",
      "Covariance Type:            nonrobust                                         \n",
      "==============================================================================\n",
      "                 coef    std err          t      P>|t|      [0.025      0.975]\n",
      "------------------------------------------------------------------------------\n",
      "const         69.7693      5.974     11.680      0.000      58.033      81.506\n",
      "AGE           -0.5505      0.084     -6.549      0.000      -0.716      -0.385\n",
      "CERTIF         9.7760      0.807     12.116      0.000       8.191      11.361\n",
      "COMVIN1        0.5598      0.876      0.639      0.523      -1.161       2.281\n",
      "COMVIN2        1.5548      1.086      1.431      0.153      -0.579       3.689\n",
      "==============================================================================\n",
      "Omnibus:                       19.857   Durbin-Watson:                   1.970\n",
      "Prob(Omnibus):                  0.000   Jarque-Bera (JB):               22.947\n",
      "Skew:                           0.417   Prob(JB):                     1.04e-05\n",
      "Kurtosis:                       3.635   Cond. No.                     1.09e+03\n",
      "==============================================================================\n",
      "\n",
      "Notes:\n",
      "[1] Standard Errors assume that the covariance matrix of the errors is correctly specified.\n",
      "[2] The condition number is large, 1.09e+03. This might indicate that there are\n",
      "strong multicollinearity or other numerical problems.\n"
     ]
    }
   ],
   "source": [
    "# Récupérer l'ensemble des valeurs de la variable cible\n",
    "Y = data[\"CODEW0\"]\n",
    "# Récupérer les variables prédictives et ajouter constante pour avoir intercept \n",
    "X = sm.add_constant(data[['AGE','CERTIF','COMVIN1','COMVIN2']])\n",
    "\n",
    "est = OLS(Y, X).fit()\n",
    " \n",
    "print(est.summary())"
   ]
  },
  {
   "cell_type": "markdown",
   "id": "c273116f",
   "metadata": {},
   "source": [
    "### c) Etudier l'adéquation du modèle à partir des résidus\n",
    "Normalité"
   ]
  },
  {
   "cell_type": "code",
   "execution_count": 65,
   "id": "86fc7358",
   "metadata": {},
   "outputs": [
    {
     "data": {
      "image/png": "[encoded data removed]",
      "text/plain": [
       "<Figure size 640x480 with 1 Axes>"
      ]
     },
     "metadata": {},
     "output_type": "display_data"
    }
   ],
   "source": [
    "res=est.resid\n",
    "fig = sm.qqplot(res,stats.t,fit=True, line='45')"
   ]
  },
  {
   "cell_type": "code",
   "execution_count": 66,
   "id": "db858778",
   "metadata": {
    "scrolled": false
   },
   "outputs": [
    {
     "data": {
      "text/plain": [
       "(array([ 1.,  3.,  3., 11., 18., 40., 63., 66., 78., 74., 42., 42., 22.,\n",
       "        18.,  8.,  4.,  4.,  3.,  0.,  1.]),\n",
       " array([-26.6741248 , -23.61764333, -20.56116185, -17.50468038,\n",
       "        -14.44819891, -11.39171743,  -8.33523596,  -5.27875448,\n",
       "         -2.22227301,   0.83420846,   3.89068994,   6.94717141,\n",
       "         10.00365288,  13.06013436,  16.11661583,  19.1730973 ,\n",
       "         22.22957878,  25.28606025,  28.34254173,  31.3990232 ,\n",
       "         34.45550467]),\n",
       " <BarContainer object of 20 artists>)"
      ]
     },
     "execution_count": 66,
     "metadata": {},
     "output_type": "execute_result"
    },
    {
     "data": {
      "image/png": "[encoded data removed]",
      "text/plain": [
       "<Figure size 640x480 with 1 Axes>"
      ]
     },
     "metadata": {},
     "output_type": "display_data"
    }
   ],
   "source": [
    "plt.hist(res, bins=20)"
   ]
  },
  {
   "cell_type": "markdown",
   "id": "a17f8ab9",
   "metadata": {},
   "source": [
    "Homocédasticité et linéarite :\n",
    "Résidus en fonction des variables explicatives"
   ]
  },
  {
   "cell_type": "code",
   "execution_count": 67,
   "id": "ed6f4bed",
   "metadata": {},
   "outputs": [
    {
     "data": {
      "text/plain": [
       "<matplotlib.collections.PathCollection at 0x2c7e2dbb4d0>"
      ]
     },
     "execution_count": 67,
     "metadata": {},
     "output_type": "execute_result"
    },
    {
     "data": {
      "image/png": "[encoded data removed]",
      "text/plain": [
       "<Figure size 640x480 with 1 Axes>"
      ]
     },
     "metadata": {},
     "output_type": "display_data"
    }
   ],
   "source": [
    "plt.scatter(data['AGE'],res)"
   ]
  },
  {
   "cell_type": "code",
   "execution_count": 68,
   "id": "93883b81",
   "metadata": {},
   "outputs": [
    {
     "data": {
      "text/plain": [
       "<matplotlib.collections.PathCollection at 0x2c7e2e1bc50>"
      ]
     },
     "execution_count": 68,
     "metadata": {},
     "output_type": "execute_result"
    },
    {
     "data": {
      "image/png": "[encoded data removed]",
      "text/plain": [
       "<Figure size 640x480 with 1 Axes>"
      ]
     },
     "metadata": {},
     "output_type": "display_data"
    }
   ],
   "source": [
    "plt.scatter(data['COMVIN'],res)"
   ]
  },
  {
   "cell_type": "code",
   "execution_count": 69,
   "id": "f9b8d2a2",
   "metadata": {
    "scrolled": false
   },
   "outputs": [
    {
     "data": {
      "text/plain": [
       "<matplotlib.collections.PathCollection at 0x2c7e2e97090>"
      ]
     },
     "execution_count": 69,
     "metadata": {},
     "output_type": "execute_result"
    },
    {
     "data": {
      "image/png": "[encoded data removed]",
      "text/plain": [
       "<Figure size 640x480 with 1 Axes>"
      ]
     },
     "metadata": {},
     "output_type": "display_data"
    }
   ],
   "source": [
    "plt.scatter(data['CERTIF'],res)"
   ]
  },
  {
   "cell_type": "markdown",
   "id": "c035009e",
   "metadata": {},
   "source": [
    "Homocédasticité:\n",
    "Résidus en fonction des valeurs prédites"
   ]
  },
  {
   "cell_type": "code",
   "execution_count": 70,
   "id": "adb40df5",
   "metadata": {
    "scrolled": false
   },
   "outputs": [
    {
     "data": {
      "text/plain": [
       "<matplotlib.collections.PathCollection at 0x2c7e2ec4090>"
      ]
     },
     "execution_count": 70,
     "metadata": {},
     "output_type": "execute_result"
    },
    {
     "data": {
      "image/png": "[encoded data removed]",
      "text/plain": [
       "<Figure size 640x480 with 1 Axes>"
      ]
     },
     "metadata": {},
     "output_type": "display_data"
    }
   ],
   "source": [
    "predictions = est.predict(X)\n",
    "plt.scatter(predictions,res)"
   ]
  },
  {
   "cell_type": "markdown",
   "id": "7044b5b2",
   "metadata": {},
   "source": [
    "### d) Etude d'interaction\n",
    " Etudier si l’association entre la consommation de vin et le score à T0 diffère chez les hommes \n",
    "et chez les femmes de même âge et de même niveau d’éducation.\n",
    "#### i) Ecrire sur papier l'équation du modèle\n",
    "$CodeW0_i=\\beta_0+\\beta_1Comvin1_i+\\beta_2Comvin2_i+\\beta_3Sexe_i+\\beta_4Age_i+\\beta_5Comvin1_i\\times Sexe_i+\\beta_6Comvin2_i\\times Sexe_i+\\epsilon_i$\n",
    "#### ii) Estimer le modèle avec l'interaction nécessaire, interpréter pour la consommation de vin"
   ]
  },
  {
   "cell_type": "code",
   "execution_count": 71,
   "id": "1c084309",
   "metadata": {},
   "outputs": [
    {
     "name": "stdout",
     "output_type": "stream",
     "text": [
      "                            OLS Regression Results                            \n",
      "==============================================================================\n",
      "Dep. Variable:                 CODEW0   R-squared:                       0.116\n",
      "Model:                            OLS   Adj. R-squared:                  0.105\n",
      "Method:                 Least Squares   F-statistic:                     10.81\n",
      "Date:                Mon, 13 Nov 2023   Prob (F-statistic):           2.57e-11\n",
      "Time:                        16:54:35   Log-Likelihood:                -1853.9\n",
      "No. Observations:                 501   AIC:                             3722.\n",
      "Df Residuals:                     494   BIC:                             3751.\n",
      "Df Model:                           6                                         \n",
      "Covariance Type:            nonrobust                                         \n",
      "================================================================================\n",
      "                   coef    std err          t      P>|t|      [0.025      0.975]\n",
      "--------------------------------------------------------------------------------\n",
      "Intercept       84.3946      6.709     12.580      0.000      71.213      97.576\n",
      "COMVIN1          0.8572      1.891      0.453      0.651      -2.859       4.573\n",
      "COMVIN2         -0.3598      1.943     -0.185      0.853      -4.178       3.458\n",
      "SEXE            -2.6533      1.783     -1.488      0.137      -6.156       0.849\n",
      "AGE10           -6.7545      0.945     -7.145      0.000      -8.612      -4.897\n",
      "COMVIN1:SEXE    -1.1344      2.251     -0.504      0.614      -5.556       3.288\n",
      "COMVIN2:SEXE     1.3282      3.452      0.385      0.701      -5.455       8.111\n",
      "==============================================================================\n",
      "Omnibus:                       11.015   Durbin-Watson:                   1.964\n",
      "Prob(Omnibus):                  0.004   Jarque-Bera (JB):               11.408\n",
      "Skew:                           0.369   Prob(JB):                      0.00333\n",
      "Kurtosis:                       2.960   Cond. No.                         111.\n",
      "==============================================================================\n",
      "\n",
      "Notes:\n",
      "[1] Standard Errors assume that the covariance matrix of the errors is correctly specified.\n"
     ]
    }
   ],
   "source": [
    "mod = smf.ols(formula='CODEW0 ~ COMVIN1 + COMVIN2 + SEXE + AGE10 + COMVIN1:SEXE +COMVIN2:SEXE', data=data)\n",
    "modele = mod.fit()\n",
    " \n",
    "print(modele.summary())"
   ]
  },
  {
   "cell_type": "code",
   "execution_count": 72,
   "id": "d578a12a",
   "metadata": {},
   "outputs": [
    {
     "name": "stdout",
     "output_type": "stream",
     "text": [
      "                            OLS Regression Results                            \n",
      "==============================================================================\n",
      "Dep. Variable:                 CODEW0   R-squared:                       0.116\n",
      "Model:                            OLS   Adj. R-squared:                  0.105\n",
      "Method:                 Least Squares   F-statistic:                     10.81\n",
      "Date:                Mon, 13 Nov 2023   Prob (F-statistic):           2.57e-11\n",
      "Time:                        16:54:35   Log-Likelihood:                -1853.9\n",
      "No. Observations:                 501   AIC:                             3722.\n",
      "Df Residuals:                     494   BIC:                             3751.\n",
      "Df Model:                           6                                         \n",
      "Covariance Type:            nonrobust                                         \n",
      "=======================================================================================\n",
      "                          coef    std err          t      P>|t|      [0.025      0.975]\n",
      "---------------------------------------------------------------------------------------\n",
      "Intercept              84.3946      6.709     12.580      0.000      71.213      97.576\n",
      "C(COMVIN)[T.1]          0.8572      1.891      0.453      0.651      -2.859       4.573\n",
      "C(COMVIN)[T.2]         -0.3598      1.943     -0.185      0.853      -4.178       3.458\n",
      "SEXE                   -2.6533      1.783     -1.488      0.137      -6.156       0.849\n",
      "C(COMVIN)[T.1]:SEXE    -1.1344      2.251     -0.504      0.614      -5.556       3.288\n",
      "C(COMVIN)[T.2]:SEXE     1.3282      3.452      0.385      0.701      -5.455       8.111\n",
      "AGE10                  -6.7545      0.945     -7.145      0.000      -8.612      -4.897\n",
      "==============================================================================\n",
      "Omnibus:                       11.015   Durbin-Watson:                   1.964\n",
      "Prob(Omnibus):                  0.004   Jarque-Bera (JB):               11.408\n",
      "Skew:                           0.369   Prob(JB):                      0.00333\n",
      "Kurtosis:                       2.960   Cond. No.                         111.\n",
      "==============================================================================\n",
      "\n",
      "Notes:\n",
      "[1] Standard Errors assume that the covariance matrix of the errors is correctly specified.\n"
     ]
    }
   ],
   "source": [
    "modbis = smf.ols(formula='CODEW0 ~ C(COMVIN)  + SEXE + AGE10 + C(COMVIN):SEXE ', data=data)\n",
    "modelebis = modbis.fit()\n",
    " \n",
    "print(modelebis.summary())"
   ]
  },
  {
   "cell_type": "markdown",
   "id": "98b7b036",
   "metadata": {},
   "source": [
    "On veut aussi la p-valeur globale de la consommation de vin pour chaque sexe et l'intervalle de confiance de l'estimation.\n",
    "\n",
    "\n",
    "Chez les hommes, l'équation s'écrit :\n",
    "$CodeW0_i=\\beta_0+\\beta_1Comvin1_i+\\beta_2Comvin2_i+\\beta_4Age_i+\\epsilon_i$\n",
    "\n",
    "Chez les femmes, l'équation s'écrit :\n",
    "$CodeW0_i=\\beta_0+\\beta_1Comvin1_i+\\beta_2Comvin2_i+\\beta_3+\\beta_4Age_i+\\beta_5Comvin1_i+\\beta_6Comvin2_i+\\epsilon_i$\n",
    "\n",
    "Pour avoir la p-valeur chez les hommes, il faut tester en enlevant la variable comvin ."
   ]
  },
  {
   "cell_type": "code",
   "execution_count": 73,
   "id": "680df2c2",
   "metadata": {},
   "outputs": [
    {
     "name": "stdout",
     "output_type": "stream",
     "text": [
      "<F test: F=0.36031830018772926, p=0.6976374364468427, df_denom=494, df_num=2>\n"
     ]
    }
   ],
   "source": [
    "hypotheses = '(COMVIN1 = 0), (COMVIN2 = 0)'\n",
    "f_test = modele.f_test(hypotheses)\n",
    "print(f_test)"
   ]
  },
  {
   "cell_type": "markdown",
   "id": "ae18ad7f",
   "metadata": {},
   "source": [
    "Pour les femmes, le plus simmple est d'inverser la référence en créant une nouvelle variable sexe."
   ]
  },
  {
   "cell_type": "code",
   "execution_count": 74,
   "id": "8ce5cbf9",
   "metadata": {},
   "outputs": [
    {
     "name": "stdout",
     "output_type": "stream",
     "text": [
      "                            OLS Regression Results                            \n",
      "==============================================================================\n",
      "Dep. Variable:                 CODEW0   R-squared:                       0.116\n",
      "Model:                            OLS   Adj. R-squared:                  0.105\n",
      "Method:                 Least Squares   F-statistic:                     10.81\n",
      "Date:                Mon, 13 Nov 2023   Prob (F-statistic):           2.57e-11\n",
      "Time:                        16:54:35   Log-Likelihood:                -1853.9\n",
      "No. Observations:                 501   AIC:                             3722.\n",
      "Df Residuals:                     494   BIC:                             3751.\n",
      "Df Model:                           6                                         \n",
      "Covariance Type:            nonrobust                                         \n",
      "=================================================================================\n",
      "                    coef    std err          t      P>|t|      [0.025      0.975]\n",
      "---------------------------------------------------------------------------------\n",
      "Intercept        81.7413      6.697     12.205      0.000      68.582      94.900\n",
      "COMVIN1          -0.2772      1.241     -0.223      0.823      -2.716       2.162\n",
      "COMVIN2           0.9684      2.845      0.340      0.734      -4.621       6.558\n",
      "SEXE1             2.6533      1.783      1.488      0.137      -0.849       6.156\n",
      "AGE10            -6.7545      0.945     -7.145      0.000      -8.612      -4.897\n",
      "COMVIN1:SEXE1     1.1344      2.251      0.504      0.614      -3.288       5.556\n",
      "COMVIN2:SEXE1    -1.3282      3.452     -0.385      0.701      -8.111       5.455\n",
      "==============================================================================\n",
      "Omnibus:                       11.015   Durbin-Watson:                   1.964\n",
      "Prob(Omnibus):                  0.004   Jarque-Bera (JB):               11.408\n",
      "Skew:                           0.369   Prob(JB):                      0.00333\n",
      "Kurtosis:                       2.960   Cond. No.                         111.\n",
      "==============================================================================\n",
      "\n",
      "Notes:\n",
      "[1] Standard Errors assume that the covariance matrix of the errors is correctly specified.\n"
     ]
    }
   ],
   "source": [
    "data['SEXE1']=np.where(data['SEXE']==1,0,1)\n",
    "modter = smf.ols(formula='CODEW0 ~ COMVIN1 + COMVIN2 + SEXE1 + AGE10 + COMVIN1:SEXE1 +COMVIN2:SEXE1', data=data)\n",
    "modeleter = modter.fit()\n",
    " \n",
    "print(modeleter.summary())"
   ]
  },
  {
   "cell_type": "code",
   "execution_count": 75,
   "id": "1b99bb01",
   "metadata": {},
   "outputs": [
    {
     "name": "stdout",
     "output_type": "stream",
     "text": [
      "<F test: F=0.09818815030080752, p=0.906496019869857, df_denom=494, df_num=2>\n"
     ]
    }
   ],
   "source": [
    "hypotheses = '(COMVIN1 = 0), (COMVIN2 = 0)'\n",
    "f_test = modeleter.f_test(hypotheses)\n",
    "print(f_test)"
   ]
  },
  {
   "cell_type": "markdown",
   "id": "6954db57",
   "metadata": {},
   "source": [
    "#### iii)Présenter les résultats du modèle \n",
    "avec interaction dans un tableau sur Word, même si l’interaction est non significative, et commenter les résultats\n",
    "\n",
    "Chez les hommes:\n",
    "\n",
    "Mesure d’association entre score consoomation de vin et âge chez les hommes du sous échantillon de la cohorte Paquid (n=501)\n",
    "| Variables | Différence moyenne estimée au score de Weschler | IC à 95% | P-valeur|\n",
    "| --- | --- | --- | --- |\n",
    "| Consommation de vin <br/>-1/4 de litre /jour (versus aucun alcool)<br/> -1/2 de litre /jour (versus aucun alcool)| <br/>0.86<br/>-0.36|  <br/>-2.86;4.57<br/>-4.178;3.458| 0.70<br/>0.65 <br/>  0.85|\n",
    "| Age (pour 10 ans) | -6.75 | -8.612;-4.897 | <0.001 |\n",
    "\n",
    "\n",
    "\n",
    "Mesure d’association entre score consoomation de vin et âge chez les femmes du sous échantillon de la cohorte Paquid (n=501)\n",
    "| Variables | Différence moyenne estimée au score de Weschler | IC à 95% | P-valeur|\n",
    "| --- | --- | --- | --- |\n",
    "| Consommation de vin <br/>-1/4 de litre /jour (versus aucun alcool)<br/> -1/2 de litre /jour (versus aucun alcool)| <br/>0-0.28<br/>0.97|  <br/>-2.72;2.16<br/>-4.62;6.56| 0.91<br/>0.82 <br/>  0.73|\n",
    "| Age (pour 10 ans) | -6.75 | -8.612;-4.897 | <0.001 |\n"
   ]
  }
 ],
 "metadata": {
  "kernelspec": {
   "display_name": "Python 3 (ipykernel)",
   "language": "python",
   "name": "python3"
  },
  "language_info": {
   "codemirror_mode": {
    "name": "ipython",
    "version": 3
   },
   "file_extension": ".py",
   "mimetype": "text/x-python",
   "name": "python",
   "nbconvert_exporter": "python",
   "pygments_lexer": "ipython3",
   "version": "3.11.5"
  }
 },
 "nbformat": 4,
 "nbformat_minor": 5
}
