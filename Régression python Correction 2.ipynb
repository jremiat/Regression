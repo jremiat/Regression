{
 "cells": [
  {
   "cell_type": "markdown",
   "id": "407ca95c",
   "metadata": {},
   "source": [
    "# Introduction aux régressions linéaires sur Python partie 2 : Correction\n",
    "\n",
    "Ceci est un cours d'introduction aux régressions linéaires sur Pyhton. L'objectif est de pouvoir importer des données, effectuer des régressions linéaires, de comprendre et savoir interpréter les sorties de Python mais aussi de vérifier l'adéquation du modèle.\n",
    "\n",
    "## Support\n",
    "\n",
    "Pour ce tutoriel, Jupyter Notebook sera utilisé.\n",
    "\n",
    "## Gestion et création de cellules\n",
    "\n",
    "Sur un notebook, vous pouvez écrire du texte et des cellules de code en Python.\n",
    "Pour transformer une cellule de code en texte, cliquez sur la cellule et appuyez sur Echap + M. Pour faire l'inverse, sélectionnez la zone de texte et appuyez sur Echap + Y.\n",
    "Pour éxecuter le code d'une cellule, appuyez sur Ctrl + Enter.\n",
    "Pour éxecuter et créer une nouvelle cellule Maj + Enter .\n",
    "\n",
    "\n",
    "## Importer les packages"
   ]
  },
  {
   "cell_type": "code",
   "execution_count": 36,
   "id": "ceba4b56",
   "metadata": {},
   "outputs": [],
   "source": [
    "#load libraries\n",
    "import numpy as np         # linear algebra\n",
    "import pandas as pd        # data processing, CSV file I/O (e.g. pd.read_csv)\n",
    "import matplotlib.pyplot as plt\n",
    "from scipy import stats #permet régression linéaire simple\n",
    "import statsmodels.api as sm \n",
    "import statsmodels.formula.api as smf #permet de faire régression liéaire avec les mêmes formules que sur R\n",
    "from statsmodels.regression.linear_model import OLS #permet régression linéaire multiple"
   ]
  },
  {
   "cell_type": "markdown",
   "id": "41261078",
   "metadata": {},
   "source": [
    "1) Importer des données\n",
    "Pour importer des données, vous pouvez les télécharger localement et les ouvrir en précisant le chemin d'accès ou directement les ouvrir à partir d'un dépot Github.\n",
    "\n",
    "Les données de l’exercice proviennent d’un sous-échantillon de la cohorte ANRS CO13 HEPAVIH. \n",
    "Cette cohorte a été initiée en 2005 dans le but d’étudier l’histoire naturelle de la co-infection par le VIH \n",
    "et le virus de l’hépatite C (VHC). Les inclusions dans la cohorte sont fermées depuis 2016, mais les \n",
    "participants inclus sont toujours suivis. Les critères d’inclusion dans la cohorte étaient un âge\n",
    "supérieur à 18 ans et un suivi dans un des centres hospitaliers participants à la cohorte. \n",
    "Dans cet exercice, nous nous intéressons en particulier au score FIB-4 qui est un score qui a été \n",
    "validé pour évaluer l’atteinte hépatique chez les participants co-infectés par le VIH et le VHC. Ce \n",
    "score est calculé en fonction de plusieurs facteurs biologiques (ASAT, ALAT et plaquettes) et de l’âge \n",
    "du participant. Ce score peut être catégorisé pour le diagnostic de la fibrose. Les participants ayant un \n",
    "score inférieur à 1,45 sont catégorisés comme n’ayant pas de fibrose ou une fibrose légère, entre 1,45 \n",
    "et 3,25 une fibrose modérée, et ceux avec un score supérieur à 3,25 comme ayant une fibrose \n",
    "avancée ou une cirrhose. Dans cet exercice, nous ne nous intéresserons qu’à une seule mesure de \n",
    "FIB4 chez les patients guéris du VHC au cours du suivi, ou non guéris mais suivis au-delà du 1er\n",
    "janvier 2014. Il s’agit de la première mesure disponible après i) la guérison du VHC pour les patients \n",
    "guéris du VHC au cours du suivi, ou ii) après le 1er janvier 2014 pour les participants non-guéris du \n",
    "VHC au cours du suivi.\n",
    "Les données sont fournies dans le fichier FIB4.csv. Les variables disponibles et leurs codages sont \n",
    "présentés dans le tableau ci-dessous.\n",
    "\n",
    " *ID* Numéro d’identifiant\n",
    " \n",
    " *Sexe* Sexe \n",
    "* 1 : Hommes\n",
    "* 2 : Femmes\n",
    "\n",
    "*Age* Age au moment de la mesure du FIB-4 Année\n",
    "\n",
    "*FIB4* Valeur de FIB-4 Réel allant potentiellement de 0 à 3\n",
    "\n",
    "*RVS* Guérison du VHC\n",
    "* 0 : Non guéris\n",
    "* 1 : Guéris\n",
    "\n",
    "*alc* Consommation d’alcool déclarée par le participant\n",
    "* 0 : Jamais\n",
    "* 1 : Ancienne\n",
    "* 2 : Actuelle\n",
    "\n",
    "*CD4* Valeur de CD4 Cellules/mm3\n"
   ]
  },
  {
   "cell_type": "code",
   "execution_count": 37,
   "id": "5f9bab11",
   "metadata": {},
   "outputs": [
    {
     "data": {
      "text/html": [
       "<div>\n",
       "<style scoped>\n",
       "    .dataframe tbody tr th:only-of-type {\n",
       "        vertical-align: middle;\n",
       "    }\n",
       "\n",
       "    .dataframe tbody tr th {\n",
       "        vertical-align: top;\n",
       "    }\n",
       "\n",
       "    .dataframe thead th {\n",
       "        text-align: right;\n",
       "    }\n",
       "</style>\n",
       "<table border=\"1\" class=\"dataframe\">\n",
       "  <thead>\n",
       "    <tr style=\"text-align: right;\">\n",
       "      <th></th>\n",
       "      <th>RVS</th>\n",
       "      <th>ID</th>\n",
       "      <th>FIB4</th>\n",
       "      <th>cd4_val</th>\n",
       "      <th>sexe</th>\n",
       "      <th>alc</th>\n",
       "      <th>age</th>\n",
       "      <th>FIB4_2</th>\n",
       "    </tr>\n",
       "  </thead>\n",
       "  <tbody>\n",
       "    <tr>\n",
       "      <th>0</th>\n",
       "      <td>0</td>\n",
       "      <td>1</td>\n",
       "      <td>1.587523</td>\n",
       "      <td>195.0</td>\n",
       "      <td>1</td>\n",
       "      <td>2</td>\n",
       "      <td>52.481862</td>\n",
       "      <td>1.259969</td>\n",
       "    </tr>\n",
       "    <tr>\n",
       "      <th>1</th>\n",
       "      <td>0</td>\n",
       "      <td>2</td>\n",
       "      <td>0.908844</td>\n",
       "      <td>1465.0</td>\n",
       "      <td>1</td>\n",
       "      <td>0</td>\n",
       "      <td>40.845996</td>\n",
       "      <td>0.953333</td>\n",
       "    </tr>\n",
       "    <tr>\n",
       "      <th>2</th>\n",
       "      <td>0</td>\n",
       "      <td>3</td>\n",
       "      <td>1.174903</td>\n",
       "      <td>591.0</td>\n",
       "      <td>1</td>\n",
       "      <td>1</td>\n",
       "      <td>43.797399</td>\n",
       "      <td>1.083929</td>\n",
       "    </tr>\n",
       "    <tr>\n",
       "      <th>3</th>\n",
       "      <td>0</td>\n",
       "      <td>5</td>\n",
       "      <td>1.036455</td>\n",
       "      <td>711.0</td>\n",
       "      <td>1</td>\n",
       "      <td>0</td>\n",
       "      <td>49.431896</td>\n",
       "      <td>1.018064</td>\n",
       "    </tr>\n",
       "    <tr>\n",
       "      <th>4</th>\n",
       "      <td>0</td>\n",
       "      <td>6</td>\n",
       "      <td>1.468953</td>\n",
       "      <td>682.0</td>\n",
       "      <td>2</td>\n",
       "      <td>0</td>\n",
       "      <td>42.924025</td>\n",
       "      <td>1.212004</td>\n",
       "    </tr>\n",
       "    <tr>\n",
       "      <th>...</th>\n",
       "      <td>...</td>\n",
       "      <td>...</td>\n",
       "      <td>...</td>\n",
       "      <td>...</td>\n",
       "      <td>...</td>\n",
       "      <td>...</td>\n",
       "      <td>...</td>\n",
       "      <td>...</td>\n",
       "    </tr>\n",
       "    <tr>\n",
       "      <th>899</th>\n",
       "      <td>1</td>\n",
       "      <td>1092</td>\n",
       "      <td>1.270015</td>\n",
       "      <td>380.0</td>\n",
       "      <td>1</td>\n",
       "      <td>2</td>\n",
       "      <td>42.469541</td>\n",
       "      <td>1.126949</td>\n",
       "    </tr>\n",
       "    <tr>\n",
       "      <th>900</th>\n",
       "      <td>1</td>\n",
       "      <td>1093</td>\n",
       "      <td>1.516113</td>\n",
       "      <td>534.0</td>\n",
       "      <td>1</td>\n",
       "      <td>2</td>\n",
       "      <td>56.824093</td>\n",
       "      <td>1.231305</td>\n",
       "    </tr>\n",
       "    <tr>\n",
       "      <th>901</th>\n",
       "      <td>0</td>\n",
       "      <td>1094</td>\n",
       "      <td>1.306137</td>\n",
       "      <td>1405.0</td>\n",
       "      <td>2</td>\n",
       "      <td>1</td>\n",
       "      <td>51.463381</td>\n",
       "      <td>1.142864</td>\n",
       "    </tr>\n",
       "    <tr>\n",
       "      <th>902</th>\n",
       "      <td>1</td>\n",
       "      <td>1095</td>\n",
       "      <td>1.847236</td>\n",
       "      <td>592.0</td>\n",
       "      <td>1</td>\n",
       "      <td>2</td>\n",
       "      <td>50.891170</td>\n",
       "      <td>1.359131</td>\n",
       "    </tr>\n",
       "    <tr>\n",
       "      <th>903</th>\n",
       "      <td>1</td>\n",
       "      <td>1096</td>\n",
       "      <td>0.722738</td>\n",
       "      <td>1152.0</td>\n",
       "      <td>1</td>\n",
       "      <td>2</td>\n",
       "      <td>49.842574</td>\n",
       "      <td>0.850140</td>\n",
       "    </tr>\n",
       "  </tbody>\n",
       "</table>\n",
       "<p>904 rows × 8 columns</p>\n",
       "</div>"
      ],
      "text/plain": [
       "     RVS    ID      FIB4  cd4_val  sexe  alc        age    FIB4_2\n",
       "0      0     1  1.587523    195.0     1    2  52.481862  1.259969\n",
       "1      0     2  0.908844   1465.0     1    0  40.845996  0.953333\n",
       "2      0     3  1.174903    591.0     1    1  43.797399  1.083929\n",
       "3      0     5  1.036455    711.0     1    0  49.431896  1.018064\n",
       "4      0     6  1.468953    682.0     2    0  42.924025  1.212004\n",
       "..   ...   ...       ...      ...   ...  ...        ...       ...\n",
       "899    1  1092  1.270015    380.0     1    2  42.469541  1.126949\n",
       "900    1  1093  1.516113    534.0     1    2  56.824093  1.231305\n",
       "901    0  1094  1.306137   1405.0     2    1  51.463381  1.142864\n",
       "902    1  1095  1.847236    592.0     1    2  50.891170  1.359131\n",
       "903    1  1096  0.722738   1152.0     1    2  49.842574  0.850140\n",
       "\n",
       "[904 rows x 8 columns]"
      ]
     },
     "execution_count": 37,
     "metadata": {},
     "output_type": "execute_result"
    }
   ],
   "source": [
    "data = pd.read_csv(\"./FIB4.csv\",sep=\";\")\n",
    "# Pour  les utilisateurs Google colab\n",
    "#url = 'https://raw.githubusercontent.com/jremiat/Regression/main/data/FIB4.csv'\n",
    "#data = pd.read_csv(url)\n",
    "data"
   ]
  },
  {
   "cell_type": "code",
   "execution_count": 38,
   "id": "96e141cb",
   "metadata": {},
   "outputs": [
    {
     "data": {
      "text/html": [
       "<div>\n",
       "<style scoped>\n",
       "    .dataframe tbody tr th:only-of-type {\n",
       "        vertical-align: middle;\n",
       "    }\n",
       "\n",
       "    .dataframe tbody tr th {\n",
       "        vertical-align: top;\n",
       "    }\n",
       "\n",
       "    .dataframe thead th {\n",
       "        text-align: right;\n",
       "    }\n",
       "</style>\n",
       "<table border=\"1\" class=\"dataframe\">\n",
       "  <thead>\n",
       "    <tr style=\"text-align: right;\">\n",
       "      <th></th>\n",
       "      <th>RVS</th>\n",
       "      <th>ID</th>\n",
       "      <th>FIB4</th>\n",
       "      <th>cd4_val</th>\n",
       "      <th>sexe</th>\n",
       "      <th>alc</th>\n",
       "      <th>age</th>\n",
       "      <th>FIB4_2</th>\n",
       "    </tr>\n",
       "  </thead>\n",
       "  <tbody>\n",
       "    <tr>\n",
       "      <th>0</th>\n",
       "      <td>0</td>\n",
       "      <td>1</td>\n",
       "      <td>1.587523</td>\n",
       "      <td>195.0</td>\n",
       "      <td>1</td>\n",
       "      <td>2</td>\n",
       "      <td>52.481862</td>\n",
       "      <td>1.259969</td>\n",
       "    </tr>\n",
       "    <tr>\n",
       "      <th>1</th>\n",
       "      <td>0</td>\n",
       "      <td>2</td>\n",
       "      <td>0.908844</td>\n",
       "      <td>1465.0</td>\n",
       "      <td>1</td>\n",
       "      <td>0</td>\n",
       "      <td>40.845996</td>\n",
       "      <td>0.953333</td>\n",
       "    </tr>\n",
       "    <tr>\n",
       "      <th>2</th>\n",
       "      <td>0</td>\n",
       "      <td>3</td>\n",
       "      <td>1.174903</td>\n",
       "      <td>591.0</td>\n",
       "      <td>1</td>\n",
       "      <td>1</td>\n",
       "      <td>43.797399</td>\n",
       "      <td>1.083929</td>\n",
       "    </tr>\n",
       "    <tr>\n",
       "      <th>3</th>\n",
       "      <td>0</td>\n",
       "      <td>5</td>\n",
       "      <td>1.036455</td>\n",
       "      <td>711.0</td>\n",
       "      <td>1</td>\n",
       "      <td>0</td>\n",
       "      <td>49.431896</td>\n",
       "      <td>1.018064</td>\n",
       "    </tr>\n",
       "    <tr>\n",
       "      <th>4</th>\n",
       "      <td>0</td>\n",
       "      <td>6</td>\n",
       "      <td>1.468953</td>\n",
       "      <td>682.0</td>\n",
       "      <td>2</td>\n",
       "      <td>0</td>\n",
       "      <td>42.924025</td>\n",
       "      <td>1.212004</td>\n",
       "    </tr>\n",
       "  </tbody>\n",
       "</table>\n",
       "</div>"
      ],
      "text/plain": [
       "   RVS  ID      FIB4  cd4_val  sexe  alc        age    FIB4_2\n",
       "0    0   1  1.587523    195.0     1    2  52.481862  1.259969\n",
       "1    0   2  0.908844   1465.0     1    0  40.845996  0.953333\n",
       "2    0   3  1.174903    591.0     1    1  43.797399  1.083929\n",
       "3    0   5  1.036455    711.0     1    0  49.431896  1.018064\n",
       "4    0   6  1.468953    682.0     2    0  42.924025  1.212004"
      ]
     },
     "execution_count": 38,
     "metadata": {},
     "output_type": "execute_result"
    }
   ],
   "source": [
    "data.head(5)"
   ]
  },
  {
   "cell_type": "markdown",
   "id": "5bb697c7",
   "metadata": {},
   "source": [
    "## Statistiques descriptives\n",
    "### 2)Représenter graphiquement la distribution de l’âge, du score FIB-4 et des valeurs de CD4 et commentez la figure.\n"
   ]
  },
  {
   "cell_type": "code",
   "execution_count": 39,
   "id": "68dd196e",
   "metadata": {},
   "outputs": [
    {
     "data": {
      "text/plain": [
       "(array([  1.,   0.,   3.,   2.,  10.,  12.,  19.,  40.,  68., 162., 208.,\n",
       "        176.,  89.,  37.,  32.,  17.,  19.,   6.,   2.,   1.]),\n",
       " array([24.15605749, 26.84845996, 29.54086242, 32.23326489, 34.92566735,\n",
       "        37.61806982, 40.31047228, 43.00287474, 45.69527721, 48.38767967,\n",
       "        51.08008214, 53.7724846 , 56.46488706, 59.15728953, 61.84969199,\n",
       "        64.54209446, 67.23449692, 69.92689938, 72.61930185, 75.31170431,\n",
       "        78.00410678]),\n",
       " <BarContainer object of 20 artists>)"
      ]
     },
     "execution_count": 39,
     "metadata": {},
     "output_type": "execute_result"
    },
    {
     "data": {
      "image/png": "[encoded data removed]",
      "text/plain": [
       "<Figure size 640x480 with 1 Axes>"
      ]
     },
     "metadata": {},
     "output_type": "display_data"
    }
   ],
   "source": [
    "plt.hist(data.filter([\"age\"]), bins=20)"
   ]
  },
  {
   "cell_type": "code",
   "execution_count": 40,
   "id": "0d129d4c",
   "metadata": {},
   "outputs": [
    {
     "data": {
      "text/plain": [
       "(array([ 11.,  29.,  49.,  75., 114., 119., 102.,  78.,  73.,  61.,  28.,\n",
       "         40.,  21.,  27.,  30.,  20.,   8.,  11.,   4.,   4.]),\n",
       " array([0.40180987, 0.58166652, 0.76152317, 0.94137983, 1.12123648,\n",
       "        1.30109313, 1.48094979, 1.66080644, 1.84066309, 2.02051975,\n",
       "        2.2003764 , 2.38023305, 2.56008971, 2.73994636, 2.91980301,\n",
       "        3.09965967, 3.27951632, 3.45937297, 3.63922963, 3.81908628,\n",
       "        3.99894293]),\n",
       " <BarContainer object of 20 artists>)"
      ]
     },
     "execution_count": 40,
     "metadata": {},
     "output_type": "execute_result"
    },
    {
     "data": {
      "image/png": "[encoded data removed]",
      "text/plain": [
       "<Figure size 640x480 with 1 Axes>"
      ]
     },
     "metadata": {},
     "output_type": "display_data"
    }
   ],
   "source": [
    "plt.hist(data.filter([\"FIB4\"]), bins=20)"
   ]
  },
  {
   "cell_type": "code",
   "execution_count": 41,
   "id": "c3266ba4",
   "metadata": {},
   "outputs": [
    {
     "data": {
      "text/plain": [
       "(array([ 69., 155., 184., 195., 134.,  73.,  44.,  24.,  15.,   6.,   1.,\n",
       "          1.,   1.,   0.,   0.,   0.,   0.,   1.,   0.,   1.]),\n",
       " array([  32. ,  208.3,  384.6,  560.9,  737.2,  913.5, 1089.8, 1266.1,\n",
       "        1442.4, 1618.7, 1795. , 1971.3, 2147.6, 2323.9, 2500.2, 2676.5,\n",
       "        2852.8, 3029.1, 3205.4, 3381.7, 3558. ]),\n",
       " <BarContainer object of 20 artists>)"
      ]
     },
     "execution_count": 41,
     "metadata": {},
     "output_type": "execute_result"
    },
    {
     "data": {
      "image/png": "[encoded data removed]",
      "text/plain": [
       "<Figure size 640x480 with 1 Axes>"
      ]
     },
     "metadata": {},
     "output_type": "display_data"
    }
   ],
   "source": [
    "plt.hist(data.filter([\"cd4_val\"]), bins=20)"
   ]
  },
  {
   "cell_type": "markdown",
   "id": "29435a24",
   "metadata": {},
   "source": [
    "Distribution normale pour l'âge et le score FIB-4 mais pas de normalité pour les CD4.\n",
    "### 3) Décrire numériquement toutes les variables\n",
    "#### a) Variable quantitative"
   ]
  },
  {
   "cell_type": "code",
   "execution_count": 42,
   "id": "9ec2a280",
   "metadata": {},
   "outputs": [
    {
     "data": {
      "text/html": [
       "<div>\n",
       "<style scoped>\n",
       "    .dataframe tbody tr th:only-of-type {\n",
       "        vertical-align: middle;\n",
       "    }\n",
       "\n",
       "    .dataframe tbody tr th {\n",
       "        vertical-align: top;\n",
       "    }\n",
       "\n",
       "    .dataframe thead th {\n",
       "        text-align: right;\n",
       "    }\n",
       "</style>\n",
       "<table border=\"1\" class=\"dataframe\">\n",
       "  <thead>\n",
       "    <tr style=\"text-align: right;\">\n",
       "      <th></th>\n",
       "      <th>age</th>\n",
       "      <th>FIB4</th>\n",
       "      <th>cd4_val</th>\n",
       "    </tr>\n",
       "  </thead>\n",
       "  <tbody>\n",
       "    <tr>\n",
       "      <th>count</th>\n",
       "      <td>904.000000</td>\n",
       "      <td>904.000000</td>\n",
       "      <td>904.000000</td>\n",
       "    </tr>\n",
       "    <tr>\n",
       "      <th>mean</th>\n",
       "      <td>53.025271</td>\n",
       "      <td>1.722670</td>\n",
       "      <td>643.767146</td>\n",
       "    </tr>\n",
       "    <tr>\n",
       "      <th>std</th>\n",
       "      <td>6.378596</td>\n",
       "      <td>0.702961</td>\n",
       "      <td>359.310448</td>\n",
       "    </tr>\n",
       "    <tr>\n",
       "      <th>min</th>\n",
       "      <td>24.156057</td>\n",
       "      <td>0.401810</td>\n",
       "      <td>32.000000</td>\n",
       "    </tr>\n",
       "    <tr>\n",
       "      <th>25%</th>\n",
       "      <td>49.794661</td>\n",
       "      <td>1.220722</td>\n",
       "      <td>387.750000</td>\n",
       "    </tr>\n",
       "    <tr>\n",
       "      <th>50%</th>\n",
       "      <td>52.765229</td>\n",
       "      <td>1.562610</td>\n",
       "      <td>598.000000</td>\n",
       "    </tr>\n",
       "    <tr>\n",
       "      <th>75%</th>\n",
       "      <td>55.932923</td>\n",
       "      <td>2.092479</td>\n",
       "      <td>817.250000</td>\n",
       "    </tr>\n",
       "    <tr>\n",
       "      <th>max</th>\n",
       "      <td>78.004107</td>\n",
       "      <td>3.998943</td>\n",
       "      <td>3558.000000</td>\n",
       "    </tr>\n",
       "  </tbody>\n",
       "</table>\n",
       "</div>"
      ],
      "text/plain": [
       "              age        FIB4      cd4_val\n",
       "count  904.000000  904.000000   904.000000\n",
       "mean    53.025271    1.722670   643.767146\n",
       "std      6.378596    0.702961   359.310448\n",
       "min     24.156057    0.401810    32.000000\n",
       "25%     49.794661    1.220722   387.750000\n",
       "50%     52.765229    1.562610   598.000000\n",
       "75%     55.932923    2.092479   817.250000\n",
       "max     78.004107    3.998943  3558.000000"
      ]
     },
     "execution_count": 42,
     "metadata": {},
     "output_type": "execute_result"
    }
   ],
   "source": [
    "quanti=data.filter([\"age\",\"FIB4\",\"cd4_val\"])\n",
    "quanti.describe()"
   ]
  },
  {
   "cell_type": "markdown",
   "id": "aa4d64d0",
   "metadata": {},
   "source": [
    "#### b) Variable catégorielle"
   ]
  },
  {
   "cell_type": "code",
   "execution_count": 43,
   "id": "fb2e7415",
   "metadata": {},
   "outputs": [
    {
     "data": {
      "text/html": [
       "<div>\n",
       "<style scoped>\n",
       "    .dataframe tbody tr th:only-of-type {\n",
       "        vertical-align: middle;\n",
       "    }\n",
       "\n",
       "    .dataframe tbody tr th {\n",
       "        vertical-align: top;\n",
       "    }\n",
       "\n",
       "    .dataframe thead th {\n",
       "        text-align: right;\n",
       "    }\n",
       "</style>\n",
       "<table border=\"1\" class=\"dataframe\">\n",
       "  <thead>\n",
       "    <tr style=\"text-align: right;\">\n",
       "      <th></th>\n",
       "      <th>RVS</th>\n",
       "      <th>alc</th>\n",
       "      <th>sexe</th>\n",
       "    </tr>\n",
       "  </thead>\n",
       "  <tbody>\n",
       "    <tr>\n",
       "      <th>0</th>\n",
       "      <td>370.0</td>\n",
       "      <td>220</td>\n",
       "      <td>NaN</td>\n",
       "    </tr>\n",
       "    <tr>\n",
       "      <th>1</th>\n",
       "      <td>534.0</td>\n",
       "      <td>254</td>\n",
       "      <td>654.0</td>\n",
       "    </tr>\n",
       "    <tr>\n",
       "      <th>2</th>\n",
       "      <td>NaN</td>\n",
       "      <td>430</td>\n",
       "      <td>250.0</td>\n",
       "    </tr>\n",
       "  </tbody>\n",
       "</table>\n",
       "</div>"
      ],
      "text/plain": [
       "     RVS  alc   sexe\n",
       "0  370.0  220    NaN\n",
       "1  534.0  254  654.0\n",
       "2    NaN  430  250.0"
      ]
     },
     "execution_count": 43,
     "metadata": {},
     "output_type": "execute_result"
    }
   ],
   "source": [
    "quali=data.filter([\"RVS\",\"alc\",\"sexe\"])\n",
    "quali.apply(lambda x: x.value_counts())"
   ]
  },
  {
   "cell_type": "markdown",
   "id": "d6fc5c14",
   "metadata": {},
   "source": [
    "## Régression linéaire simple\n",
    "\n",
    "### 3) Estimer l'association brute entre  le score FIB-4 et l’âge\n",
    "#### a) Sur papier : \n",
    "###### i) Ecrire l'équations du modèle\n",
    "$FIB4_i=\\beta_0+\\beta_1AGE_i+\\epsilon_i$\n",
    "\n",
    "##### ii) Donner les conditions d'applications de ce modèle et ce qu'elles signifient concrètement ici\n",
    "Les 4 conditions sont homocédasticités, normalité, linéarité et indépendance.\n",
    "\n",
    "* Homocédasticité:  Pour chaque âge, la variable score est dispersée avec la même amplitude : $Var(CODEW0|Age)=s^2$\n",
    "* Linéarité: Quand on augmente d'un an d'âge, le score moyen augmente de $\\beta_1$ ou E($\\epsilon_i$)=0\n",
    "* Normalité: Pour un âge fixé, la variable score doit avoir une distribution normale $CODEW0_i|Age_i\\sim \\mathcal{N}$\n",
    "* Indépendance : le score d'un individu i n'influence pas celui de j : pas d'appariement, d'avant/après.\n",
    "##### iii) Donner l'interprétation des coefficients de l'équation\n",
    "#### b) A partir des données :\n",
    "##### i) Estimer le coefficient de corrélation de Pearson entre les deux variables"
   ]
  },
  {
   "cell_type": "code",
   "execution_count": 44,
   "id": "8b4072a4",
   "metadata": {},
   "outputs": [
    {
     "data": {
      "text/plain": [
       "PearsonRResult(statistic=0.0017081801464250354, pvalue=0.9590959245697469)"
      ]
     },
     "execution_count": 44,
     "metadata": {},
     "output_type": "execute_result"
    }
   ],
   "source": [
    "stats.pearsonr(data.iloc[0:len(data),2], data.iloc[0:len(data),6])"
   ]
  },
  {
   "cell_type": "markdown",
   "id": "e2558fe8",
   "metadata": {},
   "source": [
    "##### iii) Estimer le modèle"
   ]
  },
  {
   "cell_type": "code",
   "execution_count": 45,
   "id": "e24011c1",
   "metadata": {},
   "outputs": [
    {
     "name": "stdout",
     "output_type": "stream",
     "text": [
      "                            OLS Regression Results                            \n",
      "==============================================================================\n",
      "Dep. Variable:                   FIB4   R-squared:                       0.000\n",
      "Model:                            OLS   Adj. R-squared:                 -0.001\n",
      "Method:                 Least Squares   F-statistic:                  0.002632\n",
      "Date:                Mon, 13 Nov 2023   Prob (F-statistic):              0.959\n",
      "Time:                        16:55:01   Log-Likelihood:                -963.60\n",
      "No. Observations:                 904   AIC:                             1931.\n",
      "Df Residuals:                     902   BIC:                             1941.\n",
      "Df Model:                           1                                         \n",
      "Covariance Type:            nonrobust                                         \n",
      "==============================================================================\n",
      "                 coef    std err          t      P>|t|      [0.025      0.975]\n",
      "------------------------------------------------------------------------------\n",
      "Intercept      1.7127      0.196      8.739      0.000       1.328       2.097\n",
      "age            0.0002      0.004      0.051      0.959      -0.007       0.007\n",
      "==============================================================================\n",
      "Omnibus:                       78.663   Durbin-Watson:                   1.977\n",
      "Prob(Omnibus):                  0.000   Jarque-Bera (JB):               98.054\n",
      "Skew:                           0.802   Prob(JB):                     5.10e-22\n",
      "Kurtosis:                       3.174   Cond. No.                         448.\n",
      "==============================================================================\n",
      "\n",
      "Notes:\n",
      "[1] Standard Errors assume that the covariance matrix of the errors is correctly specified.\n"
     ]
    }
   ],
   "source": [
    "mod1 = smf.ols(formula='FIB4 ~  age ', data=data)\n",
    "modele1 = mod1.fit()\n",
    " \n",
    "print(modele1.summary())"
   ]
  },
  {
   "cell_type": "code",
   "execution_count": 46,
   "id": "2ed35a74",
   "metadata": {},
   "outputs": [
    {
     "name": "stdout",
     "output_type": "stream",
     "text": [
      "                            OLS Regression Results                            \n",
      "==============================================================================\n",
      "Dep. Variable:                   FIB4   R-squared:                       0.000\n",
      "Model:                            OLS   Adj. R-squared:                 -0.001\n",
      "Method:                 Least Squares   F-statistic:                  0.002632\n",
      "Date:                Mon, 13 Nov 2023   Prob (F-statistic):              0.959\n",
      "Time:                        16:55:01   Log-Likelihood:                -963.60\n",
      "No. Observations:                 904   AIC:                             1931.\n",
      "Df Residuals:                     902   BIC:                             1941.\n",
      "Df Model:                           1                                         \n",
      "Covariance Type:            nonrobust                                         \n",
      "==============================================================================\n",
      "                 coef    std err          t      P>|t|      [0.025      0.975]\n",
      "------------------------------------------------------------------------------\n",
      "Intercept      1.7127      0.196      8.739      0.000       1.328       2.097\n",
      "age10          0.0019      0.037      0.051      0.959      -0.070       0.074\n",
      "==============================================================================\n",
      "Omnibus:                       78.663   Durbin-Watson:                   1.977\n",
      "Prob(Omnibus):                  0.000   Jarque-Bera (JB):               98.054\n",
      "Skew:                           0.802   Prob(JB):                     5.10e-22\n",
      "Kurtosis:                       3.174   Cond. No.                         46.3\n",
      "==============================================================================\n",
      "\n",
      "Notes:\n",
      "[1] Standard Errors assume that the covariance matrix of the errors is correctly specified.\n"
     ]
    }
   ],
   "source": [
    "#Si on veut pour 10 ans d'âge :\n",
    "data['age10']=data['age']/10\n",
    "mod1bis = smf.ols(formula='FIB4 ~  age10 ', data=data)\n",
    "modele1bis = mod1bis.fit()\n",
    " \n",
    "print(modele1bis.summary())"
   ]
  },
  {
   "cell_type": "markdown",
   "id": "fbd39448",
   "metadata": {},
   "source": [
    "### 4) Estimer l'association brute entre le score et la guérison du VHC \n",
    "#### a) Ecrire sur papier l'équation du modèle\n",
    "$FIB4_i=\\beta_0+\\beta_1VHC_i+\\epsilon_i$\n",
    "#### b) Estimer le modèle et interpréter les résultats"
   ]
  },
  {
   "cell_type": "code",
   "execution_count": 47,
   "id": "d62d964b",
   "metadata": {},
   "outputs": [
    {
     "name": "stdout",
     "output_type": "stream",
     "text": [
      "                            OLS Regression Results                            \n",
      "==============================================================================\n",
      "Dep. Variable:                   FIB4   R-squared:                       0.007\n",
      "Model:                            OLS   Adj. R-squared:                  0.006\n",
      "Method:                 Least Squares   F-statistic:                     6.377\n",
      "Date:                Mon, 13 Nov 2023   Prob (F-statistic):             0.0117\n",
      "Time:                        16:55:01   Log-Likelihood:                -960.42\n",
      "No. Observations:                 904   AIC:                             1925.\n",
      "Df Residuals:                     902   BIC:                             1934.\n",
      "Df Model:                           1                                         \n",
      "Covariance Type:            nonrobust                                         \n",
      "==============================================================================\n",
      "                 coef    std err          t      P>|t|      [0.025      0.975]\n",
      "------------------------------------------------------------------------------\n",
      "Intercept      1.7934      0.036     49.219      0.000       1.722       1.865\n",
      "RVS           -0.1197      0.047     -2.525      0.012      -0.213      -0.027\n",
      "==============================================================================\n",
      "Omnibus:                       72.813   Durbin-Watson:                   1.984\n",
      "Prob(Omnibus):                  0.000   Jarque-Bera (JB):               89.708\n",
      "Skew:                           0.771   Prob(JB):                     3.31e-20\n",
      "Kurtosis:                       3.050   Cond. No.                         2.89\n",
      "==============================================================================\n",
      "\n",
      "Notes:\n",
      "[1] Standard Errors assume that the covariance matrix of the errors is correctly specified.\n"
     ]
    }
   ],
   "source": [
    "mod2 = smf.ols(formula='FIB4 ~  RVS ', data=data)\n",
    "modele2 = mod2.fit()\n",
    " \n",
    "print(modele2.summary())"
   ]
  },
  {
   "cell_type": "markdown",
   "id": "b8e28c18",
   "metadata": {},
   "source": [
    "### 5) Estimer l'association brute entre le score et la consommation d'alcool\n",
    "#### a) Sur papier, écrire l'équation du modèle\n",
    "$FIB4_i=\\beta_0+\\beta_1Alc1_i+\\beta_2Alc2_i+\\epsilon_i$\n",
    "#### b) Estimer le modèle et interpréter les résultats\n",
    "Comme la variable alcool a 3 modalités, il faut créer 2 indicatrices"
   ]
  },
  {
   "cell_type": "code",
   "execution_count": 48,
   "id": "b494fa62",
   "metadata": {},
   "outputs": [
    {
     "data": {
      "text/html": [
       "<div>\n",
       "<style scoped>\n",
       "    .dataframe tbody tr th:only-of-type {\n",
       "        vertical-align: middle;\n",
       "    }\n",
       "\n",
       "    .dataframe tbody tr th {\n",
       "        vertical-align: top;\n",
       "    }\n",
       "\n",
       "    .dataframe thead th {\n",
       "        text-align: right;\n",
       "    }\n",
       "</style>\n",
       "<table border=\"1\" class=\"dataframe\">\n",
       "  <thead>\n",
       "    <tr style=\"text-align: right;\">\n",
       "      <th></th>\n",
       "      <th>RVS</th>\n",
       "      <th>ID</th>\n",
       "      <th>FIB4</th>\n",
       "      <th>cd4_val</th>\n",
       "      <th>sexe</th>\n",
       "      <th>alc</th>\n",
       "      <th>age</th>\n",
       "      <th>FIB4_2</th>\n",
       "      <th>age10</th>\n",
       "      <th>alc1</th>\n",
       "      <th>alc2</th>\n",
       "    </tr>\n",
       "  </thead>\n",
       "  <tbody>\n",
       "    <tr>\n",
       "      <th>0</th>\n",
       "      <td>0</td>\n",
       "      <td>1</td>\n",
       "      <td>1.587523</td>\n",
       "      <td>195.0</td>\n",
       "      <td>1</td>\n",
       "      <td>2</td>\n",
       "      <td>52.481862</td>\n",
       "      <td>1.259969</td>\n",
       "      <td>5.248186</td>\n",
       "      <td>0</td>\n",
       "      <td>1</td>\n",
       "    </tr>\n",
       "    <tr>\n",
       "      <th>1</th>\n",
       "      <td>0</td>\n",
       "      <td>2</td>\n",
       "      <td>0.908844</td>\n",
       "      <td>1465.0</td>\n",
       "      <td>1</td>\n",
       "      <td>0</td>\n",
       "      <td>40.845996</td>\n",
       "      <td>0.953333</td>\n",
       "      <td>4.084600</td>\n",
       "      <td>0</td>\n",
       "      <td>0</td>\n",
       "    </tr>\n",
       "    <tr>\n",
       "      <th>2</th>\n",
       "      <td>0</td>\n",
       "      <td>3</td>\n",
       "      <td>1.174903</td>\n",
       "      <td>591.0</td>\n",
       "      <td>1</td>\n",
       "      <td>1</td>\n",
       "      <td>43.797399</td>\n",
       "      <td>1.083929</td>\n",
       "      <td>4.379740</td>\n",
       "      <td>1</td>\n",
       "      <td>0</td>\n",
       "    </tr>\n",
       "    <tr>\n",
       "      <th>3</th>\n",
       "      <td>0</td>\n",
       "      <td>5</td>\n",
       "      <td>1.036455</td>\n",
       "      <td>711.0</td>\n",
       "      <td>1</td>\n",
       "      <td>0</td>\n",
       "      <td>49.431896</td>\n",
       "      <td>1.018064</td>\n",
       "      <td>4.943190</td>\n",
       "      <td>0</td>\n",
       "      <td>0</td>\n",
       "    </tr>\n",
       "    <tr>\n",
       "      <th>4</th>\n",
       "      <td>0</td>\n",
       "      <td>6</td>\n",
       "      <td>1.468953</td>\n",
       "      <td>682.0</td>\n",
       "      <td>2</td>\n",
       "      <td>0</td>\n",
       "      <td>42.924025</td>\n",
       "      <td>1.212004</td>\n",
       "      <td>4.292402</td>\n",
       "      <td>0</td>\n",
       "      <td>0</td>\n",
       "    </tr>\n",
       "  </tbody>\n",
       "</table>\n",
       "</div>"
      ],
      "text/plain": [
       "   RVS  ID      FIB4  cd4_val  sexe  alc        age    FIB4_2     age10  alc1  \\\n",
       "0    0   1  1.587523    195.0     1    2  52.481862  1.259969  5.248186     0   \n",
       "1    0   2  0.908844   1465.0     1    0  40.845996  0.953333  4.084600     0   \n",
       "2    0   3  1.174903    591.0     1    1  43.797399  1.083929  4.379740     1   \n",
       "3    0   5  1.036455    711.0     1    0  49.431896  1.018064  4.943190     0   \n",
       "4    0   6  1.468953    682.0     2    0  42.924025  1.212004  4.292402     0   \n",
       "\n",
       "   alc2  \n",
       "0     1  \n",
       "1     0  \n",
       "2     0  \n",
       "3     0  \n",
       "4     0  "
      ]
     },
     "execution_count": 48,
     "metadata": {},
     "output_type": "execute_result"
    }
   ],
   "source": [
    "data['alc1']=np.where(data['alc']==1,1,0)\n",
    "data['alc2']=np.where(data['alc']==2,1,0)\n",
    "data.head()"
   ]
  },
  {
   "cell_type": "code",
   "execution_count": 49,
   "id": "b0f714ff",
   "metadata": {},
   "outputs": [
    {
     "name": "stdout",
     "output_type": "stream",
     "text": [
      "                            OLS Regression Results                            \n",
      "==============================================================================\n",
      "Dep. Variable:                   FIB4   R-squared:                       0.001\n",
      "Model:                            OLS   Adj. R-squared:                 -0.002\n",
      "Method:                 Least Squares   F-statistic:                    0.2543\n",
      "Date:                Mon, 13 Nov 2023   Prob (F-statistic):              0.776\n",
      "Time:                        16:55:01   Log-Likelihood:                -963.35\n",
      "No. Observations:                 904   AIC:                             1933.\n",
      "Df Residuals:                     901   BIC:                             1947.\n",
      "Df Model:                           2                                         \n",
      "Covariance Type:            nonrobust                                         \n",
      "==============================================================================\n",
      "                 coef    std err          t      P>|t|      [0.025      0.975]\n",
      "------------------------------------------------------------------------------\n",
      "Intercept      1.7016      0.047     35.873      0.000       1.608       1.795\n",
      "alc1           0.0105      0.065      0.162      0.872      -0.117       0.138\n",
      "alc2           0.0382      0.058      0.654      0.513      -0.076       0.153\n",
      "==============================================================================\n",
      "Omnibus:                       78.778   Durbin-Watson:                   1.977\n",
      "Prob(Omnibus):                  0.000   Jarque-Bera (JB):               98.196\n",
      "Skew:                           0.802   Prob(JB):                     4.75e-22\n",
      "Kurtosis:                       3.181   Cond. No.                         4.39\n",
      "==============================================================================\n",
      "\n",
      "Notes:\n",
      "[1] Standard Errors assume that the covariance matrix of the errors is correctly specified.\n"
     ]
    }
   ],
   "source": [
    "\n",
    "mod3 = smf.ols(formula='FIB4 ~  alc1+alc2 ', data=data)\n",
    "modele3 = mod3.fit()\n",
    " \n",
    "print(modele3.summary())"
   ]
  },
  {
   "cell_type": "code",
   "execution_count": 50,
   "id": "04458800",
   "metadata": {},
   "outputs": [
    {
     "name": "stdout",
     "output_type": "stream",
     "text": [
      "<F test: F=0.25428084448616944, p=0.7755296155167261, df_denom=901, df_num=2>\n"
     ]
    }
   ],
   "source": [
    "hypotheses = '(alc1 = 0), (alc2 = 0)'\n",
    "f_test = modele3.f_test(hypotheses)\n",
    "print(f_test)"
   ]
  },
  {
   "cell_type": "code",
   "execution_count": 51,
   "id": "ab0ebbb6",
   "metadata": {},
   "outputs": [
    {
     "name": "stdout",
     "output_type": "stream",
     "text": [
      "                            OLS Regression Results                            \n",
      "==============================================================================\n",
      "Dep. Variable:                   FIB4   R-squared:                       0.001\n",
      "Model:                            OLS   Adj. R-squared:                 -0.002\n",
      "Method:                 Least Squares   F-statistic:                    0.2543\n",
      "Date:                Mon, 13 Nov 2023   Prob (F-statistic):              0.776\n",
      "Time:                        16:55:01   Log-Likelihood:                -963.35\n",
      "No. Observations:                 904   AIC:                             1933.\n",
      "Df Residuals:                     901   BIC:                             1947.\n",
      "Df Model:                           2                                         \n",
      "Covariance Type:            nonrobust                                         \n",
      "===============================================================================\n",
      "                  coef    std err          t      P>|t|      [0.025      0.975]\n",
      "-------------------------------------------------------------------------------\n",
      "Intercept       1.7016      0.047     35.873      0.000       1.608       1.795\n",
      "C(alc)[T.1]     0.0105      0.065      0.162      0.872      -0.117       0.138\n",
      "C(alc)[T.2]     0.0382      0.058      0.654      0.513      -0.076       0.153\n",
      "==============================================================================\n",
      "Omnibus:                       78.778   Durbin-Watson:                   1.977\n",
      "Prob(Omnibus):                  0.000   Jarque-Bera (JB):               98.196\n",
      "Skew:                           0.802   Prob(JB):                     4.75e-22\n",
      "Kurtosis:                       3.181   Cond. No.                         4.39\n",
      "==============================================================================\n",
      "\n",
      "Notes:\n",
      "[1] Standard Errors assume that the covariance matrix of the errors is correctly specified.\n"
     ]
    }
   ],
   "source": [
    "mod3bis = smf.ols(formula='FIB4 ~  C(alc) ', data=data)\n",
    "modele3bis = mod3bis.fit()\n",
    " \n",
    "print(modele3bis.summary())"
   ]
  },
  {
   "cell_type": "markdown",
   "id": "58ad8b05",
   "metadata": {},
   "source": [
    "## Régresssion linéaire multiple : association entre le score et la consommation d'alcool, ajustée sur l'âge, le sexe et la guérison au VHC\n",
    "### a) Sur papier, écrire l'équation du modèle\n",
    "$FIB4_i=\\beta_0+\\beta_1Alc1_i+\\beta_2Alc2_i+\\beta_3age_i+\\beta_4Sexe_i+\\beta_5VHC_i+\\epsilon_i$\n",
    "### b) Estimer le modèle et interpréter les résultats\n"
   ]
  },
  {
   "cell_type": "code",
   "execution_count": 52,
   "id": "6b97a974",
   "metadata": {},
   "outputs": [
    {
     "name": "stdout",
     "output_type": "stream",
     "text": [
      "                            OLS Regression Results                            \n",
      "==============================================================================\n",
      "Dep. Variable:                   FIB4   R-squared:                       0.008\n",
      "Model:                            OLS   Adj. R-squared:                  0.002\n",
      "Method:                 Least Squares   F-statistic:                     1.438\n",
      "Date:                Mon, 13 Nov 2023   Prob (F-statistic):              0.208\n",
      "Time:                        16:55:01   Log-Likelihood:                -960.00\n",
      "No. Observations:                 904   AIC:                             1932.\n",
      "Df Residuals:                     898   BIC:                             1961.\n",
      "Df Model:                           5                                         \n",
      "Covariance Type:            nonrobust                                         \n",
      "==============================================================================\n",
      "                 coef    std err          t      P>|t|      [0.025      0.975]\n",
      "------------------------------------------------------------------------------\n",
      "Intercept      1.6961      0.210      8.083      0.000       1.284       2.108\n",
      "alc1           0.0120      0.065      0.184      0.854      -0.116       0.140\n",
      "alc2           0.0439      0.058      0.752      0.452      -0.071       0.159\n",
      "age            0.0015      0.004      0.414      0.679      -0.006       0.009\n",
      "sexe          -0.0045      0.053     -0.085      0.932      -0.108       0.099\n",
      "RVS           -0.1239      0.048     -2.583      0.010      -0.218      -0.030\n",
      "==============================================================================\n",
      "Omnibus:                       72.949   Durbin-Watson:                   1.983\n",
      "Prob(Omnibus):                  0.000   Jarque-Bera (JB):               89.899\n",
      "Skew:                           0.772   Prob(JB):                     3.01e-20\n",
      "Kurtosis:                       3.053   Cond. No.                         484.\n",
      "==============================================================================\n",
      "\n",
      "Notes:\n",
      "[1] Standard Errors assume that the covariance matrix of the errors is correctly specified.\n"
     ]
    }
   ],
   "source": [
    "mod4 = smf.ols(formula='FIB4 ~ alc1 + alc2 + age + sexe + RVS', data=data)\n",
    "modele4 = mod4.fit()\n",
    " \n",
    "print(modele4.summary())"
   ]
  },
  {
   "cell_type": "code",
   "execution_count": 53,
   "id": "b832d59a",
   "metadata": {},
   "outputs": [
    {
     "name": "stdout",
     "output_type": "stream",
     "text": [
      "<F test: F=0.33791171831188055, p=0.7133489067140518, df_denom=898, df_num=2>\n"
     ]
    }
   ],
   "source": [
    "hypotheses = '(alc1 = 0), (alc2 = 0)'\n",
    "f_test = modele4.f_test(hypotheses)\n",
    "print(f_test)"
   ]
  },
  {
   "cell_type": "markdown",
   "id": "aed74ff3",
   "metadata": {},
   "source": [
    "Si on veut évaluer l'effet pour une augmentation de 10 ans d'âge :"
   ]
  },
  {
   "cell_type": "code",
   "execution_count": 54,
   "id": "010bc42a",
   "metadata": {},
   "outputs": [
    {
     "name": "stdout",
     "output_type": "stream",
     "text": [
      "                            OLS Regression Results                            \n",
      "==============================================================================\n",
      "Dep. Variable:                   FIB4   R-squared:                       0.008\n",
      "Model:                            OLS   Adj. R-squared:                  0.002\n",
      "Method:                 Least Squares   F-statistic:                     1.438\n",
      "Date:                Mon, 13 Nov 2023   Prob (F-statistic):              0.208\n",
      "Time:                        16:55:01   Log-Likelihood:                -960.00\n",
      "No. Observations:                 904   AIC:                             1932.\n",
      "Df Residuals:                     898   BIC:                             1961.\n",
      "Df Model:                           5                                         \n",
      "Covariance Type:            nonrobust                                         \n",
      "==============================================================================\n",
      "                 coef    std err          t      P>|t|      [0.025      0.975]\n",
      "------------------------------------------------------------------------------\n",
      "Intercept      1.6961      0.210      8.083      0.000       1.284       2.108\n",
      "alc1           0.0120      0.065      0.184      0.854      -0.116       0.140\n",
      "alc2           0.0439      0.058      0.752      0.452      -0.071       0.159\n",
      "age10          0.0153      0.037      0.414      0.679      -0.057       0.088\n",
      "sexe          -0.0045      0.053     -0.085      0.932      -0.108       0.099\n",
      "RVS           -0.1239      0.048     -2.583      0.010      -0.218      -0.030\n",
      "==============================================================================\n",
      "Omnibus:                       72.949   Durbin-Watson:                   1.983\n",
      "Prob(Omnibus):                  0.000   Jarque-Bera (JB):               89.899\n",
      "Skew:                           0.772   Prob(JB):                     3.01e-20\n",
      "Kurtosis:                       3.053   Cond. No.                         51.6\n",
      "==============================================================================\n",
      "\n",
      "Notes:\n",
      "[1] Standard Errors assume that the covariance matrix of the errors is correctly specified.\n"
     ]
    }
   ],
   "source": [
    "mod4bis = smf.ols(formula='FIB4 ~ alc1 + alc2 + age10 + sexe + RVS', data=data)\n",
    "modele4bis = mod4bis.fit()\n",
    " \n",
    "print(modele4bis.summary())"
   ]
  },
  {
   "cell_type": "code",
   "execution_count": 55,
   "id": "304cacf6",
   "metadata": {},
   "outputs": [
    {
     "name": "stdout",
     "output_type": "stream",
     "text": [
      "<F test: F=0.33791171831188127, p=0.7133489067140518, df_denom=898, df_num=2>\n"
     ]
    }
   ],
   "source": [
    "hypotheses = '(alc1 = 0), (alc2 = 0)'\n",
    "f_test = modele4bis.f_test(hypotheses)\n",
    "print(f_test)"
   ]
  },
  {
   "cell_type": "markdown",
   "id": "8b3d2f81",
   "metadata": {},
   "source": [
    "La p-valeur ne change pas"
   ]
  },
  {
   "cell_type": "markdown",
   "id": "b61528bd",
   "metadata": {},
   "source": [
    "### c) Discutez la différence entre l’effet de la consommation d’alcool estimé par ce modèle et celui estimé à la question précédente.\n",
    "### d) Vérifier l’adéquation de ce modèle.\n",
    "Normalité"
   ]
  },
  {
   "cell_type": "code",
   "execution_count": 56,
   "id": "0fd7a8bb",
   "metadata": {},
   "outputs": [
    {
     "data": {
      "image/png": "[encoded data removed]",
      "text/plain": [
       "<Figure size 640x480 with 1 Axes>"
      ]
     },
     "metadata": {},
     "output_type": "display_data"
    }
   ],
   "source": [
    "res=modele4.resid\n",
    "fig = sm.qqplot(res,stats.t,fit=True, line='45')"
   ]
  },
  {
   "cell_type": "code",
   "execution_count": 57,
   "id": "68d752c2",
   "metadata": {},
   "outputs": [
    {
     "data": {
      "text/plain": [
       "(array([  5.,  16.,  42.,  61., 104., 116., 116.,  82.,  77.,  69.,  35.,\n",
       "         42.,  28.,  20.,  27.,  27.,  19.,   8.,   6.,   4.]),\n",
       " array([-1.40569869, -1.22539425, -1.0450898 , -0.86478535, -0.68448091,\n",
       "        -0.50417646, -0.32387202, -0.14356757,  0.03673688,  0.21704132,\n",
       "         0.39734577,  0.57765022,  0.75795466,  0.93825911,  1.11856356,\n",
       "         1.298868  ,  1.47917245,  1.65947689,  1.83978134,  2.02008579,\n",
       "         2.20039023]),\n",
       " <BarContainer object of 20 artists>)"
      ]
     },
     "execution_count": 57,
     "metadata": {},
     "output_type": "execute_result"
    },
    {
     "data": {
      "image/png": "[encoded data removed]",
      "text/plain": [
       "<Figure size 640x480 with 1 Axes>"
      ]
     },
     "metadata": {},
     "output_type": "display_data"
    }
   ],
   "source": [
    "plt.hist(res, bins=20)"
   ]
  },
  {
   "cell_type": "markdown",
   "id": "896ec40d",
   "metadata": {},
   "source": [
    "Homocédasticité et linéarite : Résidus en fonction des variables explicatives"
   ]
  },
  {
   "cell_type": "code",
   "execution_count": 58,
   "id": "91625113",
   "metadata": {},
   "outputs": [
    {
     "data": {
      "text/plain": [
       "<matplotlib.collections.PathCollection at 0x257c586ee10>"
      ]
     },
     "execution_count": 58,
     "metadata": {},
     "output_type": "execute_result"
    },
    {
     "data": {
      "image/png": "[encoded data removed]",
      "text/plain": [
       "<Figure size 640x480 with 1 Axes>"
      ]
     },
     "metadata": {},
     "output_type": "display_data"
    }
   ],
   "source": [
    "plt.scatter(data['age'],res)"
   ]
  },
  {
   "cell_type": "code",
   "execution_count": 59,
   "id": "6b0e593e",
   "metadata": {},
   "outputs": [
    {
     "data": {
      "text/plain": [
       "<matplotlib.collections.PathCollection at 0x257c58e95d0>"
      ]
     },
     "execution_count": 59,
     "metadata": {},
     "output_type": "execute_result"
    },
    {
     "data": {
      "image/png": "[encoded data removed]",
      "text/plain": [
       "<Figure size 640x480 with 1 Axes>"
      ]
     },
     "metadata": {},
     "output_type": "display_data"
    }
   ],
   "source": [
    "plt.scatter(data['alc'],res)"
   ]
  },
  {
   "cell_type": "code",
   "execution_count": 60,
   "id": "72cea29f",
   "metadata": {},
   "outputs": [
    {
     "data": {
      "text/plain": [
       "<matplotlib.collections.PathCollection at 0x257c59ed010>"
      ]
     },
     "execution_count": 60,
     "metadata": {},
     "output_type": "execute_result"
    },
    {
     "data": {
      "image/png": "[encoded data removed]",
      "text/plain": [
       "<Figure size 640x480 with 1 Axes>"
      ]
     },
     "metadata": {},
     "output_type": "display_data"
    }
   ],
   "source": [
    "plt.scatter(data['sexe'],res)"
   ]
  },
  {
   "cell_type": "code",
   "execution_count": 61,
   "id": "a6f5bdc3",
   "metadata": {},
   "outputs": [
    {
     "data": {
      "text/plain": [
       "<matplotlib.collections.PathCollection at 0x257c59ef010>"
      ]
     },
     "execution_count": 61,
     "metadata": {},
     "output_type": "execute_result"
    },
    {
     "data": {
      "image/png": "[encoded data removed]",
      "text/plain": [
       "<Figure size 640x480 with 1 Axes>"
      ]
     },
     "metadata": {},
     "output_type": "display_data"
    }
   ],
   "source": [
    "plt.scatter(data['RVS'],res)"
   ]
  },
  {
   "cell_type": "markdown",
   "id": "eb9208e4",
   "metadata": {},
   "source": [
    "Homocédasticité: Résidus en fonction des valeurs prédites"
   ]
  },
  {
   "cell_type": "code",
   "execution_count": 62,
   "id": "93b6d51d",
   "metadata": {
    "scrolled": false
   },
   "outputs": [
    {
     "data": {
      "text/plain": [
       "<matplotlib.collections.PathCollection at 0x257c6c473d0>"
      ]
     },
     "execution_count": 62,
     "metadata": {},
     "output_type": "execute_result"
    },
    {
     "data": {
      "image/png": "[encoded data removed]",
      "text/plain": [
       "<Figure size 640x480 with 1 Axes>"
      ]
     },
     "metadata": {},
     "output_type": "display_data"
    }
   ],
   "source": [
    "X = sm.add_constant(data[['alc1', \"alc2\" , 'age' , 'sexe' , 'RVS']])\n",
    "predictions = modele4.predict(X)\n",
    "plt.scatter(predictions,res)"
   ]
  },
  {
   "cell_type": "markdown",
   "id": "3473cff5",
   "metadata": {},
   "source": [
    "### e) Présentez les résultats de ce modèle dans un tableau.\n",
    "\n",
    "| Variables | Différence moyenne estimée au score FIB-4 | IC à 95% | P-valeur|\n",
    "| --- | --- | --- | --- |\n",
    "| Consommation d'alcool déclarée par le patient <br/>-ancienne (versus jamais)<br/> -actuelle (versus jamais)| <br/>0.012<br/>-0.044|  <br/>-0.116;0.140<br/>-0.071;0.159| 0.713<br/>0.85 <br/>  0.45|\n",
    "| Age (pour 10 ans) | 0.0153 | -0.057;0.088 | 0.679 |\n",
    "| Sexe (femme versus homme) | -0.045 | -0.108;0.099 | 0.932 |\n",
    "| Guérison du VHC (guéris versus non guéris) | -0.1239 | -0.218;-0.030 | 0.010 |"
   ]
  },
  {
   "cell_type": "markdown",
   "id": "729986e6",
   "metadata": {},
   "source": [
    "### d) Etude d'interaction\n",
    "L’association entre le score FIB-4 et la valeur de CD4 diffère t’elle statistiquement significativement en fonction de la guérison du VHC ?\n",
    "#### i) Ecrire sur papier l'équation du modèle\n",
    "$FIB4_i=\\beta_0+\\beta_1RVS_i+\\beta_2CD4_i+\\beta_3RVS_i\\times CD4_i+\\epsilon_i$\n",
    "#### ii) Estimer le modèle avec l'interaction nécessaire"
   ]
  },
  {
   "cell_type": "code",
   "execution_count": 63,
   "id": "40f1369a",
   "metadata": {},
   "outputs": [
    {
     "name": "stdout",
     "output_type": "stream",
     "text": [
      "                            OLS Regression Results                            \n",
      "==============================================================================\n",
      "Dep. Variable:                   FIB4   R-squared:                       0.008\n",
      "Model:                            OLS   Adj. R-squared:                  0.005\n",
      "Method:                 Least Squares   F-statistic:                     2.555\n",
      "Date:                Mon, 13 Nov 2023   Prob (F-statistic):             0.0541\n",
      "Time:                        16:55:02   Log-Likelihood:                -959.77\n",
      "No. Observations:                 904   AIC:                             1928.\n",
      "Df Residuals:                     900   BIC:                             1947.\n",
      "Df Model:                           3                                         \n",
      "Covariance Type:            nonrobust                                         \n",
      "===============================================================================\n",
      "                  coef    std err          t      P>|t|      [0.025      0.975]\n",
      "-------------------------------------------------------------------------------\n",
      "Intercept       1.8613      0.078     23.762      0.000       1.708       2.015\n",
      "RVS            -0.2179      0.099     -2.201      0.028      -0.412      -0.024\n",
      "cd4_val        -0.0001      0.000     -0.979      0.328      -0.000       0.000\n",
      "RVS:cd4_val     0.0002      0.000      1.130      0.259      -0.000       0.000\n",
      "==============================================================================\n",
      "Omnibus:                       73.787   Durbin-Watson:                   1.978\n",
      "Prob(Omnibus):                  0.000   Jarque-Bera (JB):               91.129\n",
      "Skew:                           0.777   Prob(JB):                     1.63e-20\n",
      "Kurtosis:                       3.062   Cond. No.                     4.54e+03\n",
      "==============================================================================\n",
      "\n",
      "Notes:\n",
      "[1] Standard Errors assume that the covariance matrix of the errors is correctly specified.\n",
      "[2] The condition number is large, 4.54e+03. This might indicate that there are\n",
      "strong multicollinearity or other numerical problems.\n"
     ]
    }
   ],
   "source": [
    "modint = smf.ols(formula='FIB4 ~ RVS + cd4_val +  RVS:cd4_val', data=data)\n",
    "modeleint = modint.fit()\n",
    " \n",
    "print(modeleint.summary())"
   ]
  }
 ],
 "metadata": {
  "kernelspec": {
   "display_name": "Python 3 (ipykernel)",
   "language": "python",
   "name": "python3"
  },
  "language_info": {
   "codemirror_mode": {
    "name": "ipython",
    "version": 3
   },
   "file_extension": ".py",
   "mimetype": "text/x-python",
   "name": "python",
   "nbconvert_exporter": "python",
   "pygments_lexer": "ipython3",
   "version": "3.11.5"
  }
 },
 "nbformat": 4,
 "nbformat_minor": 5
}
